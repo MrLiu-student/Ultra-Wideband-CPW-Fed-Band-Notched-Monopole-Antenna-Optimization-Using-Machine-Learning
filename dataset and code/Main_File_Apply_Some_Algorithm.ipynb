{
 "cells": [
  {
   "cell_type": "markdown",
   "id": "4LmCjaRzvJ-5",
   "metadata": {
    "id": "4LmCjaRzvJ-5"
   },
   "source": [
    "# Design and Development of Compact CPW Fed Band-Notched Antenna for UWB Application using Machine learning"
   ]
  },
  {
   "cell_type": "markdown",
   "id": "4c39566d",
   "metadata": {},
   "source": [
    "## Data Fields:\n",
    "\n",
    "d -- Width of L Strip in Proposed Antenna <br/>\n",
    "h -- Horizontal Length of L Strip in Proposed Antenna <br/>\n",
    "l -- Vertical Length of L Strip in Proposed Antenna <br/>\n",
    "Freq --- Frequency In GHz <br/>\n",
    "dB -- Result which we got from Simulation of Antenna Using HFSS"
   ]
  },
  {
   "cell_type": "markdown",
   "id": "NxgbV3aowXuo",
   "metadata": {
    "id": "NxgbV3aowXuo"
   },
   "source": [
    "## Import Data From Drive For Collabe"
   ]
  },
  {
   "cell_type": "code",
   "execution_count": 1,
   "id": "Mv-XI07Dr6a5",
   "metadata": {
    "colab": {
     "base_uri": "https://localhost:8080/"
    },
    "id": "Mv-XI07Dr6a5",
    "outputId": "3698b2b8-ae58-4470-f5e8-6941b8735c43"
   },
   "outputs": [],
   "source": [
    "# from google.colab import drive\n",
    "# drive.mount('/content/drive')"
   ]
  },
  {
   "cell_type": "markdown",
   "id": "a9d2cf46",
   "metadata": {
    "id": "a9d2cf46"
   },
   "source": [
    "## Import Libraries"
   ]
  },
  {
   "cell_type": "code",
   "execution_count": 2,
   "id": "1d1b26fa",
   "metadata": {
    "id": "1d1b26fa"
   },
   "outputs": [],
   "source": [
    "import numpy as np\n",
    "import matplotlib.pyplot as plt\n",
    "import pandas as pd\n",
    "import seaborn as sns\n",
    "\n",
    "from sklearn.linear_model import LinearRegression\n",
    "from sklearn.linear_model import Lasso\n",
    "from sklearn.linear_model import Ridge\n",
    "from sklearn.linear_model import SGDRegressor\n",
    "from sklearn.neural_network import MLPRegressor\n",
    "from sklearn.svm import SVR\n",
    "from sklearn.tree import DecisionTreeRegressor\n",
    "from sklearn.ensemble import RandomForestRegressor\n",
    "from sklearn.ensemble import GradientBoostingRegressor\n",
    "from lightgbm import LGBMRegressor\n",
    "from xgboost import XGBRegressor\n",
    "\n",
    "from sklearn.model_selection import train_test_split\n",
    "from sklearn.metrics import r2_score\n",
    "from sklearn.metrics import mean_squared_error"
   ]
  },
  {
   "cell_type": "markdown",
   "id": "e6e93cc4",
   "metadata": {
    "id": "e6e93cc4"
   },
   "source": [
    "## Import Dataset"
   ]
  },
  {
   "cell_type": "code",
   "execution_count": 3,
   "id": "cdb0413d",
   "metadata": {
    "id": "cdb0413d"
   },
   "outputs": [
    {
     "data": {
      "text/html": [
       "<div>\n",
       "<style scoped>\n",
       "    .dataframe tbody tr th:only-of-type {\n",
       "        vertical-align: middle;\n",
       "    }\n",
       "\n",
       "    .dataframe tbody tr th {\n",
       "        vertical-align: top;\n",
       "    }\n",
       "\n",
       "    .dataframe thead th {\n",
       "        text-align: right;\n",
       "    }\n",
       "</style>\n",
       "<table border=\"1\" class=\"dataframe\">\n",
       "  <thead>\n",
       "    <tr style=\"text-align: right;\">\n",
       "      <th></th>\n",
       "      <th>d</th>\n",
       "      <th>h</th>\n",
       "      <th>l</th>\n",
       "      <th>Freq</th>\n",
       "      <th>dB</th>\n",
       "    </tr>\n",
       "  </thead>\n",
       "  <tbody>\n",
       "    <tr>\n",
       "      <th>0</th>\n",
       "      <td>0.2</td>\n",
       "      <td>-7.0</td>\n",
       "      <td>7.0</td>\n",
       "      <td>2.9</td>\n",
       "      <td>-3.195070</td>\n",
       "    </tr>\n",
       "    <tr>\n",
       "      <th>1</th>\n",
       "      <td>0.2</td>\n",
       "      <td>-7.0</td>\n",
       "      <td>7.2</td>\n",
       "      <td>2.9</td>\n",
       "      <td>-3.324770</td>\n",
       "    </tr>\n",
       "    <tr>\n",
       "      <th>2</th>\n",
       "      <td>0.2</td>\n",
       "      <td>-7.0</td>\n",
       "      <td>7.4</td>\n",
       "      <td>2.9</td>\n",
       "      <td>-3.456933</td>\n",
       "    </tr>\n",
       "    <tr>\n",
       "      <th>3</th>\n",
       "      <td>0.2</td>\n",
       "      <td>-7.0</td>\n",
       "      <td>7.6</td>\n",
       "      <td>2.9</td>\n",
       "      <td>-2.708674</td>\n",
       "    </tr>\n",
       "    <tr>\n",
       "      <th>4</th>\n",
       "      <td>0.2</td>\n",
       "      <td>-7.0</td>\n",
       "      <td>7.8</td>\n",
       "      <td>2.9</td>\n",
       "      <td>-4.193131</td>\n",
       "    </tr>\n",
       "  </tbody>\n",
       "</table>\n",
       "</div>"
      ],
      "text/plain": [
       "     d    h    l  Freq        dB\n",
       "0  0.2 -7.0  7.0   2.9 -3.195070\n",
       "1  0.2 -7.0  7.2   2.9 -3.324770\n",
       "2  0.2 -7.0  7.4   2.9 -3.456933\n",
       "3  0.2 -7.0  7.6   2.9 -2.708674\n",
       "4  0.2 -7.0  7.8   2.9 -4.193131"
      ]
     },
     "execution_count": 3,
     "metadata": {},
     "output_type": "execute_result"
    }
   ],
   "source": [
    "Dataset = pd.read_excel('Main_dataset.xlsx')\n",
    "Dataset.head()"
   ]
  },
  {
   "cell_type": "markdown",
   "id": "f6e2f4f5",
   "metadata": {},
   "source": [
    "## Data Shape"
   ]
  },
  {
   "cell_type": "code",
   "execution_count": 4,
   "id": "2bae25b7",
   "metadata": {
    "colab": {
     "base_uri": "https://localhost:8080/",
     "height": 419
    },
    "id": "2bae25b7",
    "outputId": "10ecdcef-49ea-41b5-b1b8-6b9112d4b3c5"
   },
   "outputs": [
    {
     "data": {
      "text/plain": [
       "(202608, 5)"
      ]
     },
     "execution_count": 4,
     "metadata": {},
     "output_type": "execute_result"
    }
   ],
   "source": [
    "Dataset.shape"
   ]
  },
  {
   "cell_type": "markdown",
   "id": "10de0607",
   "metadata": {
    "tags": []
   },
   "source": [
    "## Check For Null Values"
   ]
  },
  {
   "cell_type": "code",
   "execution_count": 5,
   "id": "3f13d1f2",
   "metadata": {},
   "outputs": [
    {
     "name": "stdout",
     "output_type": "stream",
     "text": [
      "<class 'pandas.core.frame.DataFrame'>\n",
      "RangeIndex: 202608 entries, 0 to 202607\n",
      "Data columns (total 5 columns):\n",
      " #   Column  Non-Null Count   Dtype  \n",
      "---  ------  --------------   -----  \n",
      " 0   d       202608 non-null  float64\n",
      " 1   h       202608 non-null  float64\n",
      " 2   l       202608 non-null  float64\n",
      " 3   Freq    202608 non-null  float64\n",
      " 4   dB      202608 non-null  float64\n",
      "dtypes: float64(5)\n",
      "memory usage: 7.7 MB\n"
     ]
    }
   ],
   "source": [
    "Dataset.info()"
   ]
  },
  {
   "cell_type": "markdown",
   "id": "0a7e0f7d",
   "metadata": {},
   "source": [
    "## Univariate Measures"
   ]
  },
  {
   "cell_type": "code",
   "execution_count": 6,
   "id": "2ec9b07a",
   "metadata": {
    "colab": {
     "base_uri": "https://localhost:8080/",
     "height": 297
    },
    "id": "2ec9b07a",
    "outputId": "60dc20b9-e15a-4a82-df67-92aebf43df8e"
   },
   "outputs": [
    {
     "data": {
      "text/html": [
       "<div>\n",
       "<style scoped>\n",
       "    .dataframe tbody tr th:only-of-type {\n",
       "        vertical-align: middle;\n",
       "    }\n",
       "\n",
       "    .dataframe tbody tr th {\n",
       "        vertical-align: top;\n",
       "    }\n",
       "\n",
       "    .dataframe thead th {\n",
       "        text-align: right;\n",
       "    }\n",
       "</style>\n",
       "<table border=\"1\" class=\"dataframe\">\n",
       "  <thead>\n",
       "    <tr style=\"text-align: right;\">\n",
       "      <th></th>\n",
       "      <th>d</th>\n",
       "      <th>h</th>\n",
       "      <th>l</th>\n",
       "      <th>Freq</th>\n",
       "      <th>dB</th>\n",
       "    </tr>\n",
       "  </thead>\n",
       "  <tbody>\n",
       "    <tr>\n",
       "      <th>count</th>\n",
       "      <td>202608.00000</td>\n",
       "      <td>202608.000000</td>\n",
       "      <td>202608.000000</td>\n",
       "      <td>202608.000000</td>\n",
       "      <td>202608.000000</td>\n",
       "    </tr>\n",
       "    <tr>\n",
       "      <th>mean</th>\n",
       "      <td>0.30000</td>\n",
       "      <td>-5.000000</td>\n",
       "      <td>8.500000</td>\n",
       "      <td>12.250000</td>\n",
       "      <td>-13.614835</td>\n",
       "    </tr>\n",
       "    <tr>\n",
       "      <th>std</th>\n",
       "      <td>0.08165</td>\n",
       "      <td>1.211063</td>\n",
       "      <td>0.921957</td>\n",
       "      <td>5.425162</td>\n",
       "      <td>3.599592</td>\n",
       "    </tr>\n",
       "    <tr>\n",
       "      <th>min</th>\n",
       "      <td>0.20000</td>\n",
       "      <td>-7.000000</td>\n",
       "      <td>7.000000</td>\n",
       "      <td>2.900000</td>\n",
       "      <td>-44.732142</td>\n",
       "    </tr>\n",
       "    <tr>\n",
       "      <th>25%</th>\n",
       "      <td>0.20000</td>\n",
       "      <td>-6.000000</td>\n",
       "      <td>7.750000</td>\n",
       "      <td>7.575000</td>\n",
       "      <td>-16.049837</td>\n",
       "    </tr>\n",
       "    <tr>\n",
       "      <th>50%</th>\n",
       "      <td>0.30000</td>\n",
       "      <td>-5.000000</td>\n",
       "      <td>8.500000</td>\n",
       "      <td>12.250000</td>\n",
       "      <td>-13.943070</td>\n",
       "    </tr>\n",
       "    <tr>\n",
       "      <th>75%</th>\n",
       "      <td>0.40000</td>\n",
       "      <td>-4.000000</td>\n",
       "      <td>9.250000</td>\n",
       "      <td>16.925000</td>\n",
       "      <td>-11.231658</td>\n",
       "    </tr>\n",
       "    <tr>\n",
       "      <th>max</th>\n",
       "      <td>0.40000</td>\n",
       "      <td>-3.000000</td>\n",
       "      <td>10.000000</td>\n",
       "      <td>21.600000</td>\n",
       "      <td>25.582638</td>\n",
       "    </tr>\n",
       "  </tbody>\n",
       "</table>\n",
       "</div>"
      ],
      "text/plain": [
       "                  d              h              l           Freq  \\\n",
       "count  202608.00000  202608.000000  202608.000000  202608.000000   \n",
       "mean        0.30000      -5.000000       8.500000      12.250000   \n",
       "std         0.08165       1.211063       0.921957       5.425162   \n",
       "min         0.20000      -7.000000       7.000000       2.900000   \n",
       "25%         0.20000      -6.000000       7.750000       7.575000   \n",
       "50%         0.30000      -5.000000       8.500000      12.250000   \n",
       "75%         0.40000      -4.000000       9.250000      16.925000   \n",
       "max         0.40000      -3.000000      10.000000      21.600000   \n",
       "\n",
       "                  dB  \n",
       "count  202608.000000  \n",
       "mean      -13.614835  \n",
       "std         3.599592  \n",
       "min       -44.732142  \n",
       "25%       -16.049837  \n",
       "50%       -13.943070  \n",
       "75%       -11.231658  \n",
       "max        25.582638  "
      ]
     },
     "execution_count": 6,
     "metadata": {},
     "output_type": "execute_result"
    }
   ],
   "source": [
    "Dataset.describe()"
   ]
  },
  {
   "cell_type": "markdown",
   "id": "a0101ee7",
   "metadata": {},
   "source": [
    "## Visualize the Data"
   ]
  },
  {
   "cell_type": "code",
   "execution_count": 7,
   "id": "d1332736",
   "metadata": {},
   "outputs": [
    {
     "data": {
      "text/plain": [
       "Text(0, 0.5, 'dB')"
      ]
     },
     "execution_count": 7,
     "metadata": {},
     "output_type": "execute_result"
    },
    {
     "data": {
      "image/png": "[encoded data removed]",
      "text/plain": [
       "<Figure size 432x288 with 1 Axes>"
      ]
     },
     "metadata": {
      "needs_background": "light"
     },
     "output_type": "display_data"
    }
   ],
   "source": [
    "plt.scatter(x = 'd', y = 'dB', data = Dataset)\n",
    "plt.xlabel('Width of L Strip(d)')\n",
    "plt.ylabel('dB')"
   ]
  },
  {
   "cell_type": "code",
   "execution_count": 8,
   "id": "7b224eb8",
   "metadata": {},
   "outputs": [
    {
     "data": {
      "text/plain": [
       "Text(0, 0.5, 'dB')"
      ]
     },
     "execution_count": 8,
     "metadata": {},
     "output_type": "execute_result"
    },
    {
     "data": {
      "image/png": "[encoded data removed]",
      "text/plain": [
       "<Figure size 432x288 with 1 Axes>"
      ]
     },
     "metadata": {
      "needs_background": "light"
     },
     "output_type": "display_data"
    }
   ],
   "source": [
    "plt.scatter(x = 'h', y = 'dB', data = Dataset)\n",
    "plt.xlabel('Horizontal Length of L Strip(h)')\n",
    "plt.ylabel('dB')"
   ]
  },
  {
   "cell_type": "code",
   "execution_count": 9,
   "id": "d28032c7",
   "metadata": {},
   "outputs": [
    {
     "data": {
      "text/plain": [
       "Text(0, 0.5, 'dB')"
      ]
     },
     "execution_count": 9,
     "metadata": {},
     "output_type": "execute_result"
    },
    {
     "data": {
      "image/png": "[encoded data removed]",
      "text/plain": [
       "<Figure size 432x288 with 1 Axes>"
      ]
     },
     "metadata": {
      "needs_background": "light"
     },
     "output_type": "display_data"
    }
   ],
   "source": [
    "plt.scatter(x = 'l', y = 'dB', data = Dataset)\n",
    "plt.xlabel('Vertical Length of L Strip(l)')\n",
    "plt.ylabel('dB')"
   ]
  },
  {
   "cell_type": "code",
   "execution_count": 10,
   "id": "22716ac8",
   "metadata": {},
   "outputs": [
    {
     "data": {
      "text/plain": [
       "Text(0, 0.5, 'dB')"
      ]
     },
     "execution_count": 10,
     "metadata": {},
     "output_type": "execute_result"
    },
    {
     "data": {
      "image/png": "[encoded data removed]",
      "text/plain": [
       "<Figure size 432x288 with 1 Axes>"
      ]
     },
     "metadata": {
      "needs_background": "light"
     },
     "output_type": "display_data"
    }
   ],
   "source": [
    "plt.scatter(x = 'Freq', y = 'dB', data = Dataset)\n",
    "plt.xlabel('Frequency')\n",
    "plt.ylabel('dB')"
   ]
  },
  {
   "cell_type": "code",
   "execution_count": 11,
   "id": "47527073",
   "metadata": {
    "colab": {
     "base_uri": "https://localhost:8080/",
     "height": 478
    },
    "id": "47527073",
    "outputId": "12c1eb35-4423-41f2-c57c-10475194a75b"
   },
   "outputs": [
    {
     "data": {
      "text/plain": [
       "<AxesSubplot:xlabel='l', ylabel='h'>"
      ]
     },
     "execution_count": 11,
     "metadata": {},
     "output_type": "execute_result"
    },
    {
     "data": {
      "image/png": "[encoded data removed]",
      "text/plain": [
       "<Figure size 1728x1152 with 3 Axes>"
      ]
     },
     "metadata": {
      "needs_background": "light"
     },
     "output_type": "display_data"
    }
   ],
   "source": [
    "plt.figure(figsize=[24,16])\n",
    "plt.subplot(241)\n",
    "sns.barplot(x = 'd', y = 'h', data = Dataset)\n",
    "plt.subplot(242)\n",
    "sns.barplot(x = 'l', y = 'd', data = Dataset)\n",
    "plt.subplot(243)\n",
    "sns.barplot(x = 'l', y = 'h', data = Dataset)"
   ]
  },
  {
   "cell_type": "code",
   "execution_count": 12,
   "id": "a107b6b4",
   "metadata": {
    "colab": {
     "base_uri": "https://localhost:8080/",
     "height": 731
    },
    "id": "a107b6b4",
    "outputId": "6507d5fc-d06a-4ced-d310-52aebac34687"
   },
   "outputs": [
    {
     "data": {
      "text/plain": [
       "<AxesSubplot:xlabel='h', ylabel='l'>"
      ]
     },
     "execution_count": 12,
     "metadata": {},
     "output_type": "execute_result"
    },
    {
     "data": {
      "image/png": "[encoded data removed]",
      "text/plain": [
       "<Figure size 1296x864 with 1 Axes>"
      ]
     },
     "metadata": {
      "needs_background": "light"
     },
     "output_type": "display_data"
    }
   ],
   "source": [
    "plt.figure(figsize=[18,12])\n",
    "sns.barplot(x = 'h',y= 'l', hue = 'd', data = Dataset)"
   ]
  },
  {
   "cell_type": "code",
   "execution_count": 13,
   "id": "e4769fcf",
   "metadata": {
    "colab": {
     "base_uri": "https://localhost:8080/",
     "height": 825
    },
    "id": "e4769fcf",
    "outputId": "81102416-29c0-4efc-e33f-2e1121ac66c9"
   },
   "outputs": [
    {
     "data": {
      "image/png": "[encoded data removed]",
      "text/plain": [
       "<Figure size 1296x1008 with 6 Axes>"
      ]
     },
     "metadata": {
      "needs_background": "light"
     },
     "output_type": "display_data"
    }
   ],
   "source": [
    "Dataset.hist(bins=50, figsize=(18,14))\n",
    "plt.show()"
   ]
  },
  {
   "cell_type": "markdown",
   "id": "d3516230",
   "metadata": {},
   "source": [
    "## Check For Correlation"
   ]
  },
  {
   "cell_type": "code",
   "execution_count": 14,
   "id": "928d3616",
   "metadata": {},
   "outputs": [
    {
     "data": {
      "text/html": [
       "<div>\n",
       "<style scoped>\n",
       "    .dataframe tbody tr th:only-of-type {\n",
       "        vertical-align: middle;\n",
       "    }\n",
       "\n",
       "    .dataframe tbody tr th {\n",
       "        vertical-align: top;\n",
       "    }\n",
       "\n",
       "    .dataframe thead th {\n",
       "        text-align: right;\n",
       "    }\n",
       "</style>\n",
       "<table border=\"1\" class=\"dataframe\">\n",
       "  <thead>\n",
       "    <tr style=\"text-align: right;\">\n",
       "      <th></th>\n",
       "      <th>d</th>\n",
       "      <th>h</th>\n",
       "      <th>l</th>\n",
       "      <th>Freq</th>\n",
       "      <th>dB</th>\n",
       "    </tr>\n",
       "  </thead>\n",
       "  <tbody>\n",
       "    <tr>\n",
       "      <th>d</th>\n",
       "      <td>1.000000e+00</td>\n",
       "      <td>4.853454e-17</td>\n",
       "      <td>-3.530462e-17</td>\n",
       "      <td>-8.188475e-15</td>\n",
       "      <td>-0.011987</td>\n",
       "    </tr>\n",
       "    <tr>\n",
       "      <th>h</th>\n",
       "      <td>4.853454e-17</td>\n",
       "      <td>1.000000e+00</td>\n",
       "      <td>-8.031224e-16</td>\n",
       "      <td>-6.428768e-14</td>\n",
       "      <td>0.019175</td>\n",
       "    </tr>\n",
       "    <tr>\n",
       "      <th>l</th>\n",
       "      <td>-3.530462e-17</td>\n",
       "      <td>-8.031224e-16</td>\n",
       "      <td>1.000000e+00</td>\n",
       "      <td>-1.566157e-13</td>\n",
       "      <td>-0.025573</td>\n",
       "    </tr>\n",
       "    <tr>\n",
       "      <th>Freq</th>\n",
       "      <td>-8.188475e-15</td>\n",
       "      <td>-6.428768e-14</td>\n",
       "      <td>-1.566157e-13</td>\n",
       "      <td>1.000000e+00</td>\n",
       "      <td>-0.516858</td>\n",
       "    </tr>\n",
       "    <tr>\n",
       "      <th>dB</th>\n",
       "      <td>-1.198681e-02</td>\n",
       "      <td>1.917502e-02</td>\n",
       "      <td>-2.557281e-02</td>\n",
       "      <td>-5.168579e-01</td>\n",
       "      <td>1.000000</td>\n",
       "    </tr>\n",
       "  </tbody>\n",
       "</table>\n",
       "</div>"
      ],
      "text/plain": [
       "                 d             h             l          Freq        dB\n",
       "d     1.000000e+00  4.853454e-17 -3.530462e-17 -8.188475e-15 -0.011987\n",
       "h     4.853454e-17  1.000000e+00 -8.031224e-16 -6.428768e-14  0.019175\n",
       "l    -3.530462e-17 -8.031224e-16  1.000000e+00 -1.566157e-13 -0.025573\n",
       "Freq -8.188475e-15 -6.428768e-14 -1.566157e-13  1.000000e+00 -0.516858\n",
       "dB   -1.198681e-02  1.917502e-02 -2.557281e-02 -5.168579e-01  1.000000"
      ]
     },
     "execution_count": 14,
     "metadata": {},
     "output_type": "execute_result"
    }
   ],
   "source": [
    "data_correlation = Dataset.corr()\n",
    "data_correlation"
   ]
  },
  {
   "cell_type": "markdown",
   "id": "5362a13a",
   "metadata": {},
   "source": [
    "## Heatmap"
   ]
  },
  {
   "cell_type": "code",
   "execution_count": 15,
   "id": "eda7df79",
   "metadata": {},
   "outputs": [
    {
     "data": {
      "image/png": "[encoded data removed]",
      "text/plain": [
       "<Figure size 720x576 with 2 Axes>"
      ]
     },
     "metadata": {
      "needs_background": "light"
     },
     "output_type": "display_data"
    }
   ],
   "source": [
    "plt.subplots(figsize=(10, 8))\n",
    "sns.heatmap(data_correlation, annot=True)\n",
    "plt.show()"
   ]
  },
  {
   "cell_type": "markdown",
   "id": "e2314fcb",
   "metadata": {
    "jp-MarkdownHeadingCollapsed": true,
    "tags": []
   },
   "source": [
    "## Build Model Function\n",
    "Creating a Function for building Models"
   ]
  },
  {
   "cell_type": "markdown",
   "id": "5c12f33b",
   "metadata": {},
   "source": [
    "### Linear Regression\n",
    "Creating a function for Linear Regression Model fit on the data"
   ]
  },
  {
   "cell_type": "code",
   "execution_count": 16,
   "id": "5b926961",
   "metadata": {},
   "outputs": [],
   "source": [
    "def Linear_Regression(x_train, y_train):\n",
    "    print(\"Linear Regression: \")\n",
    "    linear_regression = LinearRegression()\n",
    "    linear_regression.fit(x_train, y_train)\n",
    "    return linear_regression"
   ]
  },
  {
   "cell_type": "markdown",
   "id": "80f5acbb",
   "metadata": {},
   "source": [
    "### Lasso Regression\n",
    "Creating a function for Lasso Regression Model fit on the data"
   ]
  },
  {
   "cell_type": "code",
   "execution_count": 17,
   "id": "6a525e9a",
   "metadata": {},
   "outputs": [],
   "source": [
    "def Lasso_Regression(x_train, y_train):\n",
    "    print(\"Lasso Regression: \")\n",
    "    lasso_regression = Lasso(alpha=0.8, max_iter=10000)\n",
    "    lasso_regression.fit(x_train, y_train)\n",
    "    return lasso_regression"
   ]
  },
  {
   "cell_type": "markdown",
   "id": "a9bb0641",
   "metadata": {},
   "source": [
    "### Ridge Regression\n",
    "Creating a function for Ridge Regression Model fit on the data"
   ]
  },
  {
   "cell_type": "code",
   "execution_count": 18,
   "id": "44204470",
   "metadata": {},
   "outputs": [],
   "source": [
    "def Ridge_Regression(x_train, y_train):\n",
    "    print(\"Ridge Regression: \")\n",
    "    ridge_regression = Ridge(alpha=0.9)\n",
    "    ridge_regression.fit(x_train, y_train)\n",
    "    return ridge_regression"
   ]
  },
  {
   "cell_type": "markdown",
   "id": "fd8ee44d",
   "metadata": {},
   "source": [
    "### Sochastic Gradient Descent Regression\n",
    "\n",
    "Creating a function for Sochastic Gradient Descent Regression Model fit on the data"
   ]
  },
  {
   "cell_type": "code",
   "execution_count": 19,
   "id": "054c5f98",
   "metadata": {},
   "outputs": [],
   "source": [
    "def SGD_Regression(x_train, y_train):\n",
    "    print(\"SGD Regression: \")\n",
    "    sgd_regression = SGDRegressor(max_iter=2000)\n",
    "    sgd_regression.fit(x_train, y_train)\n",
    "    return sgd_regression"
   ]
  },
  {
   "cell_type": "markdown",
   "id": "7d635119",
   "metadata": {},
   "source": [
    "### Multilayer Preceptron Regresson\n",
    "\n",
    "Creating a function for MLP Regressor Neural Network to fit the data. 3 Hidden layers, with 13 neurons each."
   ]
  },
  {
   "cell_type": "code",
   "execution_count": 20,
   "id": "2d6cc046",
   "metadata": {},
   "outputs": [],
   "source": [
    "def MLP_Regression(x_train, y_train):\n",
    "    print(\"MLP Regressor: \")\n",
    "    mlp_regressor = MLPRegressor(activation='relu', hidden_layer_sizes=(13,13,13), solver='lbfgs', verbose = True, max_iter= 20000)\n",
    "    mlp_regressor.fit(x_train, y_train)\n",
    "    return mlp_regressor"
   ]
  },
  {
   "cell_type": "markdown",
   "id": "292a9c5f",
   "metadata": {},
   "source": [
    "### Support Vector Regression\n",
    "\n",
    "Creating a function for Support Vector Regression Model fit on the data"
   ]
  },
  {
   "cell_type": "code",
   "execution_count": 21,
   "id": "404351ac",
   "metadata": {},
   "outputs": [],
   "source": [
    "def SVR_Regression(x_train, y_train):\n",
    "    print(\"Support Vector Regressor: \")\n",
    "    svr_regressor = SVR(kernel = 'rbf' , degree= 3)\n",
    "    svr_regressor.fit(x_train, y_train)\n",
    "    return svr_regressor"
   ]
  },
  {
   "cell_type": "markdown",
   "id": "0f8cdd29",
   "metadata": {},
   "source": [
    "### Decision Tree Regression\n",
    "\n",
    "Creating a function for Decision Tree Regression Model fit on the data"
   ]
  },
  {
   "cell_type": "code",
   "execution_count": 22,
   "id": "da1ba128",
   "metadata": {},
   "outputs": [],
   "source": [
    "def DT_Regression(x_train, y_train):\n",
    "    print(\"Decision Tree Regressor: \")\n",
    "    dt_regressor = DecisionTreeRegressor()\n",
    "    dt_regressor.fit(x_train, y_train)\n",
    "    return dt_regressor"
   ]
  },
  {
   "cell_type": "markdown",
   "id": "1a11e4f3",
   "metadata": {},
   "source": [
    "### Random Forest Regression\n",
    "\n",
    "Creating a function for Random Forest Regression Model fit on the data"
   ]
  },
  {
   "cell_type": "code",
   "execution_count": 23,
   "id": "fa4e1073",
   "metadata": {},
   "outputs": [],
   "source": [
    "def RF_Regression(x_train, y_train):\n",
    "    print(\"Random Forest Regressor: \")\n",
    "    rf_regressor = RandomForestRegressor()\n",
    "    rf_regressor.fit(x_train, y_train)\n",
    "    return rf_regressor"
   ]
  },
  {
   "cell_type": "markdown",
   "id": "d96b9597",
   "metadata": {},
   "source": [
    "### Gradient Boosting Regression\n",
    "\n",
    "Creating a function for Gradient Boosting Regression Model fit on the data"
   ]
  },
  {
   "cell_type": "code",
   "execution_count": 24,
   "id": "c6a9c149",
   "metadata": {},
   "outputs": [],
   "source": [
    "def GB_Regression(x_train, y_train):\n",
    "    print(\"Gradient Boosting Regressor: \")\n",
    "    gb_regressor = GradientBoostingRegressor()\n",
    "    gb_regressor.fit(x_train, y_train)\n",
    "    return gb_regressor"
   ]
  },
  {
   "cell_type": "markdown",
   "id": "ea59d8da",
   "metadata": {},
   "source": [
    "### Light Gradient Boosting Regression\n",
    "\n",
    "Creating a function for Light Gradient Boosting Regression Model fit on the data"
   ]
  },
  {
   "cell_type": "code",
   "execution_count": 25,
   "id": "63357ce5",
   "metadata": {},
   "outputs": [],
   "source": [
    "def LGBM_Regression(x_train, y_train):\n",
    "    print(\"LGBM Regressor: \")\n",
    "    lgbm_regressor = LGBMRegressor()\n",
    "    lgbm_regressor.fit(x_train, y_train)\n",
    "    return lgbm_regressor"
   ]
  },
  {
   "cell_type": "markdown",
   "id": "e51addc1",
   "metadata": {},
   "source": [
    "### Extreme Gradient Boosting Regression\n",
    "\n",
    "Creating a function for Extreme Gradient Boosting Regression Model fit on the data"
   ]
  },
  {
   "cell_type": "code",
   "execution_count": 26,
   "id": "19743e23",
   "metadata": {},
   "outputs": [],
   "source": [
    "def XGB_Regression(x_train, y_train):\n",
    "    print(\"XGB Regressor: \")\n",
    "    xgb_regressor = XGBRegressor()\n",
    "    xgb_regressor.fit(x_train, y_train)\n",
    "    return xgb_regressor"
   ]
  },
  {
   "cell_type": "markdown",
   "id": "e8995ff7",
   "metadata": {
    "jp-MarkdownHeadingCollapsed": true,
    "tags": []
   },
   "source": [
    "## Build and Train Model Function\n",
    "Creating a Function for building, training and evaluating the model by using the train test split method where X is all variables but the median value and Y is target name = sales. The function preprocesses the data using standard scaler, trains the model ans print out the r2 score for accuracy, with the predicted values vs actual values."
   ]
  },
  {
   "cell_type": "code",
   "execution_count": 27,
   "id": "b5c65a88",
   "metadata": {},
   "outputs": [],
   "source": [
    "# data means dataset name and reg_fn means model function name\n",
    "def build_and_train_model(data, reg_fn):\n",
    "    X = Dataset.drop(\"dB\", axis=1)\n",
    "    Y = Dataset[\"dB\"]\n",
    "    x_train, x_test, y_train, y_test = train_test_split(X, Y, shuffle=True, test_size=0.2)\n",
    "    \n",
    "    model = reg_fn(x_train, y_train)\n",
    "    score = model.score(x_train, y_train)\n",
    "    print(\"Training score: \", score)\n",
    "\n",
    "    y_pred = model.predict(x_test)\n",
    "    r_score = r2_score(y_test, y_pred)\n",
    "    print(\"Testing Score : \", r_score)\n",
    "    \n",
    "    mse = mean_squared_error(y_test, y_pred)\n",
    "    print(\"mse value : \", mse)\n",
    "\n",
    "    df_y = pd.DataFrame({'y_test' : y_test, 'y_pred' : y_pred})\n",
    "    print(df_y.sample(10))\n",
    "    \n",
    "    plt.figure(figsize=(10, 8))\n",
    "    plt.plot(y_test.values, label='Actual')\n",
    "    plt.plot(y_pred, label='Predicted')\n",
    "    plt.ylabel(\"db[s(1,1)]\")\n",
    "    plt.legend()\n",
    "    plt.show()\n",
    "\n",
    "    return{'model' : model, \n",
    "            'x_train' : x_train, 'x_test' : x_test,\n",
    "            'y_train' : y_train, 'y_test' : y_test, \n",
    "            'y_pred' : y_pred, 'sample' : df_y.sample(10)\n",
    "            }"
   ]
  },
  {
   "cell_type": "markdown",
   "id": "2ea8e268",
   "metadata": {},
   "source": [
    "### Linear Regression Model fit Results\n",
    "Utilizing the build and train model function to predict and score the Linear Regression algorithm on the data. 2 inputs as needed: data file and the type of model below. Results in order Training score, Testing/r2 score to predict accuracy, and the Y_test: actual values and Y_pred = predicted values. "
   ]
  },
  {
   "cell_type": "code",
   "execution_count": 28,
   "id": "f29632e1",
   "metadata": {},
   "outputs": [
    {
     "name": "stdout",
     "output_type": "stream",
     "text": [
      "Linear Regression: \n",
      "Training score:  0.26709397330698903\n",
      "Testing Score :  0.2731473665286712\n",
      "mse value :  9.418456177958907\n",
      "           y_test     y_pred\n",
      "180280 -20.339254 -16.091412\n",
      "69606  -10.618735 -12.642881\n",
      "4543    -5.315716 -10.688372\n",
      "199705 -10.063013 -16.869258\n",
      "128727 -18.027606 -14.475251\n",
      "142086 -16.441382 -14.695512\n",
      "100141 -12.846813 -13.669112\n",
      "139689 -15.894141 -14.781595\n",
      "124803 -17.023066 -14.128112\n",
      "126892 -16.897614 -14.408567\n"
     ]
    },
    {
     "data": {
      "image/png": "[encoded data removed]",
      "text/plain": [
       "<Figure size 720x576 with 1 Axes>"
      ]
     },
     "metadata": {
      "needs_background": "light"
     },
     "output_type": "display_data"
    }
   ],
   "source": [
    "Linear_regression = build_and_train_model(Dataset, Linear_Regression)"
   ]
  },
  {
   "cell_type": "markdown",
   "id": "9a8d6a7b",
   "metadata": {},
   "source": [
    "### Lasso Regression Model fit Results\n",
    "Utilizing the build and train model function to predict and score the Linear Regression algorithm on the data. 2 inputs as needed: data file and the type of model below. Results in order Training score, Testing/r2 score to predict accuracy, and the Y_test: actual values and Y_pred = predicted values. "
   ]
  },
  {
   "cell_type": "code",
   "execution_count": 29,
   "id": "89cec15e",
   "metadata": {},
   "outputs": [
    {
     "name": "stdout",
     "output_type": "stream",
     "text": [
      "Lasso Regression: \n",
      "Training score:  0.2660580957829546\n",
      "Testing Score :  0.26337872085241176\n",
      "mse value :  9.488619316185225\n",
      "           y_test     y_pred\n",
      "118162 -18.516332 -14.113349\n",
      "183844 -21.814023 -16.035612\n",
      "17148  -14.065060 -11.156023\n",
      "201829 -10.873767 -16.567930\n",
      "155674 -14.990181 -15.207560\n",
      "184347 -22.803543 -16.035612\n",
      "150705 -16.531167 -15.059694\n",
      "16521  -23.720756 -11.126450\n",
      "193678 -12.729720 -16.331344\n",
      "66048  -10.571191 -12.575540\n"
     ]
    },
    {
     "data": {
      "image/png": "[encoded data removed]",
      "text/plain": [
       "<Figure size 720x576 with 1 Axes>"
      ]
     },
     "metadata": {
      "needs_background": "light"
     },
     "output_type": "display_data"
    }
   ],
   "source": [
    "Lasso_regression = build_and_train_model(Dataset, Lasso_Regression)"
   ]
  },
  {
   "cell_type": "markdown",
   "id": "b9a0371d",
   "metadata": {},
   "source": [
    "### Ridge Regression Model fit Results\n",
    "Utilizing the build and train model function to predict and score the Linear Regression algorithm on the data. 2 inputs as needed: data file and the type of model below. Results in order Training score, Testing/r2 score to predict accuracy, and the Y_test: actual values and Y_pred = predicted values. "
   ]
  },
  {
   "cell_type": "code",
   "execution_count": 30,
   "id": "cb17016d",
   "metadata": {},
   "outputs": [
    {
     "name": "stdout",
     "output_type": "stream",
     "text": [
      "Ridge Regression: \n",
      "Training score:  0.2683123784894029\n",
      "Testing Score :  0.2682630855191035\n",
      "mse value :  9.341625834991962\n",
      "           y_test     y_pred\n",
      "137787 -15.383384 -14.791119\n",
      "191997 -13.999898 -16.679115\n",
      "151051 -16.405060 -15.228567\n",
      "7388    -6.172304 -10.817042\n",
      "74063  -16.772926 -12.958953\n",
      "9271   -12.060707 -10.698270\n",
      "62843  -11.089985 -12.441723\n",
      "13788  -21.221676 -10.803531\n",
      "33393   -9.010373 -11.489208\n",
      "148408 -18.186105 -15.261545\n"
     ]
    },
    {
     "data": {
      "image/png": "[encoded data removed]",
      "text/plain": [
       "<Figure size 720x576 with 1 Axes>"
      ]
     },
     "metadata": {
      "needs_background": "light"
     },
     "output_type": "display_data"
    }
   ],
   "source": [
    "Ridge_regression = build_and_train_model(Dataset, Ridge_Regression)"
   ]
  },
  {
   "cell_type": "markdown",
   "id": "62bac77a",
   "metadata": {},
   "source": [
    "### Sochastic Gradient Descent Regression Model fit Results\n",
    "Utilizing the build and train model function to predict and score the Linear Regression algorithm on the data. 2 inputs as needed: data file and the type of model below. Results in order Training score, Testing/r2 score to predict accuracy, and the Y_test: actual values and Y_pred = predicted values. "
   ]
  },
  {
   "cell_type": "code",
   "execution_count": 31,
   "id": "a3d59c36",
   "metadata": {},
   "outputs": [
    {
     "name": "stdout",
     "output_type": "stream",
     "text": [
      "SGD Regression: \n",
      "Training score:  0.24565842099740853\n",
      "Testing Score :  0.24481409543829336\n",
      "mse value :  9.884884160761338\n",
      "           y_test     y_pred\n",
      "28770   -8.675345 -11.479787\n",
      "69057  -13.305117 -12.917397\n",
      "11152  -17.889886 -10.974178\n",
      "175740 -15.603653 -16.808717\n",
      "103235 -15.519631 -14.176829\n",
      "117459 -16.577159 -14.525708\n",
      "52515   -7.113819 -12.410709\n",
      "76648  -19.900157 -13.488952\n",
      "136366 -16.013096 -15.618763\n",
      "121967 -16.207228 -14.917431\n"
     ]
    },
    {
     "data": {
      "image/png": "[encoded data removed]",
      "text/plain": [
       "<Figure size 720x576 with 1 Axes>"
      ]
     },
     "metadata": {
      "needs_background": "light"
     },
     "output_type": "display_data"
    }
   ],
   "source": [
    "SGD_regression = build_and_train_model(Dataset, SGD_Regression)"
   ]
  },
  {
   "cell_type": "markdown",
   "id": "cbd21d1b",
   "metadata": {},
   "source": [
    "### Multilayer Preceptron Regression Model fit Results\n",
    "Utilizing the build and train model function to predict and score the Linear Regression algorithm on the data. 2 inputs as needed: data file and the type of model below. Results in order Training score, Testing/r2 score to predict accuracy, and the Y_test: actual values and Y_pred = predicted values. "
   ]
  },
  {
   "cell_type": "code",
   "execution_count": 32,
   "id": "602bb997",
   "metadata": {},
   "outputs": [
    {
     "name": "stdout",
     "output_type": "stream",
     "text": [
      "MLP Regressor: \n",
      "Training score:  0.648650432815338\n",
      "Testing Score :  0.6557265301558399\n",
      "           y_test     y_pred\n",
      "192067 -16.372348 -14.516872\n",
      "16603  -19.585912 -14.980920\n",
      "136014 -16.213687 -16.148998\n",
      "197013 -11.714420 -14.303969\n",
      "12916   -6.272638 -13.394527\n",
      "187524 -19.026136 -14.627593\n",
      "73196  -15.642963 -15.154067\n",
      "39043   -8.482247  -8.461531\n",
      "122936 -17.287639 -16.757837\n",
      "13291  -17.665706 -15.669094\n"
     ]
    },
    {
     "data": {
      "image/png": "[encoded data removed]",
      "text/plain": [
       "<Figure size 720x576 with 1 Axes>"
      ]
     },
     "metadata": {
      "needs_background": "light"
     },
     "output_type": "display_data"
    }
   ],
   "source": [
    "MLP_regression = build_and_train_model(Dataset, MLP_Regression)"
   ]
  },
  {
   "cell_type": "markdown",
   "id": "c4aa8975",
   "metadata": {},
   "source": [
    "### Support Vector Regression Model fit Results\n",
    "Utilizing the build and train model function to predict and score the Linear Regression algorithm on the data. 2 inputs as needed: data file and the type of model below. Results in order Training score, Testing/r2 score to predict accuracy, and the Y_test: actual values and Y_pred = predicted values. "
   ]
  },
  {
   "cell_type": "code",
   "execution_count": 33,
   "id": "8e5299be",
   "metadata": {},
   "outputs": [
    {
     "name": "stdout",
     "output_type": "stream",
     "text": [
      "Support Vector Regressor: \n",
      "Training score:  0.35112485202102683\n",
      "Testing Score :  0.34889415691742887\n",
      "           y_test     y_pred\n",
      "100373 -14.597876 -14.806218\n",
      "109747 -15.582740 -15.658978\n",
      "99914  -12.450080 -14.570763\n",
      "26852   -9.394215  -9.429684\n",
      "37965  -11.026335 -11.071036\n",
      "1257    -2.219206 -10.346378\n",
      "46078  -10.823156 -11.588662\n",
      "178668 -17.690572 -13.622253\n",
      "92396  -13.821457 -14.542595\n",
      "166729 -11.817873 -14.851794\n"
     ]
    },
    {
     "data": {
      "image/png": "[encoded data removed]",
      "text/plain": [
       "<Figure size 720x576 with 1 Axes>"
      ]
     },
     "metadata": {
      "needs_background": "light"
     },
     "output_type": "display_data"
    }
   ],
   "source": [
    "SVR_regression = build_and_train_model(Dataset, SVR_Regression)"
   ]
  },
  {
   "cell_type": "markdown",
   "id": "b3d1c0bb",
   "metadata": {},
   "source": [
    "### Decision Tree Regression Model fit Results\n",
    "Utilizing the build and train model function to predict and score the Linear Regression algorithm on the data. 2 inputs as needed: data file and the type of model below. Results in order Training score, Testing/r2 score to predict accuracy, and the Y_test: actual values and Y_pred = predicted values. "
   ]
  },
  {
   "cell_type": "code",
   "execution_count": 34,
   "id": "d9fadf69",
   "metadata": {},
   "outputs": [
    {
     "name": "stdout",
     "output_type": "stream",
     "text": [
      "Decision Tree Regressor: \n",
      "Training score:  1.0\n",
      "Testing Score :  0.928180324394331\n",
      "mse value :  0.9327981317215205\n",
      "           y_test     y_pred\n",
      "15816  -17.100347 -15.820765\n",
      "190511 -14.870461 -14.263619\n",
      "45014   -9.985170  -9.977743\n",
      "134124 -14.982301 -15.044009\n",
      "135004 -16.418430 -16.490023\n",
      "172624 -16.613885 -16.613885\n",
      "134870 -15.458680 -15.522438\n",
      "3951    -4.720178  -5.382661\n",
      "28172  -10.738437 -11.640044\n",
      "28962   -8.675345  -8.675345\n"
     ]
    },
    {
     "data": {
      "image/png": "[encoded data removed]",
      "text/plain": [
       "<Figure size 720x576 with 1 Axes>"
      ]
     },
     "metadata": {
      "needs_background": "light"
     },
     "output_type": "display_data"
    }
   ],
   "source": [
    "DT_regression = build_and_train_model(Dataset, DT_Regression)"
   ]
  },
  {
   "cell_type": "markdown",
   "id": "28687e6e",
   "metadata": {},
   "source": [
    "### Random Forest Regression Model fit Results\n",
    "Utilizing the build and train model function to predict and score the Linear Regression algorithm on the data. 2 inputs as needed: data file and the type of model below. Results in order Training score, Testing/r2 score to predict accuracy, and the Y_test: actual values and Y_pred = predicted values. "
   ]
  },
  {
   "cell_type": "code",
   "execution_count": 35,
   "id": "269e8fa8",
   "metadata": {},
   "outputs": [
    {
     "name": "stdout",
     "output_type": "stream",
     "text": [
      "Random Forest Regressor: \n",
      "Training score:  0.9943236319923973\n",
      "Testing Score :  0.9609644940416198\n",
      "mse value :  0.5086357221873643\n",
      "           y_test     y_pred\n",
      "164462 -12.125622 -12.140662\n",
      "58232  -11.037823 -11.106350\n",
      "67909  -11.752965 -11.872913\n",
      "156122 -14.326936 -13.821599\n",
      "31082  -10.822181 -11.123099\n",
      "201460 -10.913201 -10.922364\n",
      "13396  -19.863433 -18.540098\n",
      "65269  -12.930051 -12.767848\n",
      "16677  -18.874441 -18.743161\n",
      "11444  -14.451080 -15.750661\n"
     ]
    },
    {
     "data": {
      "image/png": "[encoded data removed]",
      "text/plain": [
       "<Figure size 720x576 with 1 Axes>"
      ]
     },
     "metadata": {
      "needs_background": "light"
     },
     "output_type": "display_data"
    }
   ],
   "source": [
    "RF_regression = build_and_train_model(Dataset, RF_Regression)"
   ]
  },
  {
   "cell_type": "markdown",
   "id": "49dddb97",
   "metadata": {},
   "source": [
    "### Gradient Boosting Regression Model fit Results\n",
    "Utilizing the build and train model function to predict and score the Linear Regression algorithm on the data. 2 inputs as needed: data file and the type of model below. Results in order Training score, Testing/r2 score to predict accuracy, and the Y_test: actual values and Y_pred = predicted values. "
   ]
  },
  {
   "cell_type": "code",
   "execution_count": 36,
   "id": "05e272a0",
   "metadata": {},
   "outputs": [
    {
     "name": "stdout",
     "output_type": "stream",
     "text": [
      "Gradient Boosting Regressor: \n",
      "Training score:  0.8447747031457739\n",
      "Testing Score :  0.8379161698924295\n",
      "mse value :  2.101887656412752\n",
      "           y_test     y_pred\n",
      "35494  -10.224177 -10.262987\n",
      "177866 -17.647367 -16.969363\n",
      "59060   -9.995017  -9.719143\n",
      "141995 -16.438770 -16.346700\n",
      "85800  -17.793207 -15.271867\n",
      "61752  -11.194089 -11.265957\n",
      "130898 -15.050605 -16.124911\n",
      "92062  -14.526782 -14.048301\n",
      "23249   -9.571113  -9.953934\n",
      "18161  -11.676091 -12.889459\n"
     ]
    },
    {
     "data": {
      "image/png": "[encoded data removed]",
      "text/plain": [
       "<Figure size 720x576 with 1 Axes>"
      ]
     },
     "metadata": {
      "needs_background": "light"
     },
     "output_type": "display_data"
    }
   ],
   "source": [
    "GB_regression = build_and_train_model(Dataset, GB_Regression)"
   ]
  },
  {
   "cell_type": "markdown",
   "id": "b5b87447",
   "metadata": {},
   "source": [
    "### Light Gradient Boosting Regression Model fit Results\n",
    "Utilizing the build and train model function to predict and score the Linear Regression algorithm on the data. 2 inputs as needed: data file and the type of model below. Results in order Training score, Testing/r2 score to predict accuracy, and the Y_test: actual values and Y_pred = predicted values. "
   ]
  },
  {
   "cell_type": "code",
   "execution_count": 37,
   "id": "55acc0a3",
   "metadata": {},
   "outputs": [
    {
     "name": "stdout",
     "output_type": "stream",
     "text": [
      "LGBM Regressor: \n",
      "Training score:  0.9215981528237825\n",
      "Testing Score :  0.9219268833404702\n",
      "mse value :  1.0102933593392553\n",
      "           y_test     y_pred\n",
      "97069  -11.728115 -12.724651\n",
      "130971 -16.014363 -16.034533\n",
      "78637  -17.662505 -17.077760\n",
      "52679  -10.419132 -10.123497\n",
      "144880 -17.585007 -17.278070\n",
      "167745 -16.157948 -15.612670\n",
      "145424 -17.993380 -17.037447\n",
      "35920   -9.195706  -8.945845\n",
      "27756  -11.015853 -11.109790\n",
      "156903 -14.148328 -14.273239\n"
     ]
    },
    {
     "data": {
      "image/png": "[encoded data removed]",
      "text/plain": [
       "<Figure size 720x576 with 1 Axes>"
      ]
     },
     "metadata": {
      "needs_background": "light"
     },
     "output_type": "display_data"
    }
   ],
   "source": [
    "LGBM_regression = build_and_train_model(Dataset, LGBM_Regression)"
   ]
  },
  {
   "cell_type": "markdown",
   "id": "1f40e746",
   "metadata": {},
   "source": [
    "### Extreme Gradient Boosting Regression Model fit Results\n",
    "Utilizing the build and train model function to predict and score the Linear Regression algorithm on the data. 2 inputs as needed: data file and the type of model below. Results in order Training score, Testing/r2 score to predict accuracy, and the Y_test: actual values and Y_pred = predicted values. "
   ]
  },
  {
   "cell_type": "code",
   "execution_count": 38,
   "id": "28315416",
   "metadata": {},
   "outputs": [
    {
     "name": "stdout",
     "output_type": "stream",
     "text": [
      "XGB Regressor: \n",
      "Training score:  0.9452966171322393\n",
      "Testing Score :  0.9397297667650584\n",
      "mse value :  0.794262780151568\n",
      "           y_test     y_pred\n",
      "182230 -20.137724 -20.528673\n",
      "5959    -9.815001  -8.315258\n",
      "44355   -7.786183  -8.211823\n",
      "176350 -16.324299 -16.337965\n",
      "24290   -9.362059  -9.134952\n",
      "37041   -9.031010  -8.953558\n",
      "149183 -14.925758 -15.319489\n",
      "46630   -9.614470 -10.038440\n",
      "78867  -18.286376 -16.464382\n",
      "11374  -14.064936 -14.262037\n"
     ]
    },
    {
     "data": {
      "image/png": "[encoded data removed]",
      "text/plain": [
       "<Figure size 720x576 with 1 Axes>"
      ]
     },
     "metadata": {
      "needs_background": "light"
     },
     "output_type": "display_data"
    }
   ],
   "source": [
    "XGB_regression = build_and_train_model(Dataset, XGB_Regression)"
   ]
  },
  {
   "cell_type": "markdown",
   "id": "f32d845a",
   "metadata": {},
   "source": [
    "## Spliting Dataset Into Training And Testing Set"
   ]
  },
  {
   "cell_type": "code",
   "execution_count": 39,
   "id": "d7bc39b9",
   "metadata": {},
   "outputs": [],
   "source": [
    "X = Dataset.drop(\"dB\", axis=1)\n",
    "Y = Dataset[\"dB\"]\n",
    "x_train, x_test, y_train, y_test = train_test_split(X, Y, shuffle=True, test_size=0.2)"
   ]
  },
  {
   "cell_type": "markdown",
   "id": "1e84027c",
   "metadata": {},
   "source": [
    "## Parameter Tunning For RandomForest Model"
   ]
  },
  {
   "cell_type": "code",
   "execution_count": 40,
   "id": "f0e82ba0",
   "metadata": {
    "id": "f0e82ba0"
   },
   "outputs": [],
   "source": [
    "from sklearn.model_selection import GridSearchCV\n",
    "# Create the parameter grid based on the results of random search \n",
    "param_grid = {\n",
    "    'bootstrap': [True],\n",
    "    'max_depth': [80, 90, 100, 110],\n",
    "    'max_features': [2, 3],\n",
    "    # 'min_samples_leaf': [3, 4, 5],\n",
    "    # 'min_samples_split': [8, 10, 12],\n",
    "    'n_estimators': [100, 200, 300, 1000]\n",
    "}\n",
    "\n"
   ]
  },
  {
   "cell_type": "code",
   "execution_count": 41,
   "id": "3b728c2f",
   "metadata": {
    "colab": {
     "base_uri": "https://localhost:8080/"
    },
    "id": "3b728c2f",
    "outputId": "e17cd2f4-9943-43a0-a912-6b2b2d57e157",
    "scrolled": true
   },
   "outputs": [
    {
     "name": "stdout",
     "output_type": "stream",
     "text": [
      "Fitting 3 folds for each of 32 candidates, totalling 96 fits\n",
      "[CV] END bootstrap=True, max_depth=80, max_features=2, n_estimators=100; total time=  12.5s\n",
      "[CV] END bootstrap=True, max_depth=80, max_features=2, n_estimators=100; total time=  11.5s\n",
      "[CV] END bootstrap=True, max_depth=80, max_features=2, n_estimators=100; total time=  11.6s\n",
      "[CV] END bootstrap=True, max_depth=80, max_features=2, n_estimators=200; total time=  23.8s\n",
      "[CV] END bootstrap=True, max_depth=80, max_features=2, n_estimators=200; total time=  24.3s\n",
      "[CV] END bootstrap=True, max_depth=80, max_features=2, n_estimators=200; total time=  24.2s\n",
      "[CV] END bootstrap=True, max_depth=80, max_features=2, n_estimators=300; total time=  37.1s\n",
      "[CV] END bootstrap=True, max_depth=80, max_features=2, n_estimators=300; total time=  35.5s\n",
      "[CV] END bootstrap=True, max_depth=80, max_features=2, n_estimators=300; total time=  35.0s\n",
      "[CV] END bootstrap=True, max_depth=80, max_features=2, n_estimators=1000; total time= 2.6min\n",
      "[CV] END bootstrap=True, max_depth=80, max_features=2, n_estimators=1000; total time= 2.7min\n",
      "[CV] END bootstrap=True, max_depth=80, max_features=2, n_estimators=1000; total time= 2.6min\n",
      "[CV] END bootstrap=True, max_depth=80, max_features=3, n_estimators=100; total time=  14.4s\n",
      "[CV] END bootstrap=True, max_depth=80, max_features=3, n_estimators=100; total time=  14.1s\n",
      "[CV] END bootstrap=True, max_depth=80, max_features=3, n_estimators=100; total time=  13.7s\n",
      "[CV] END bootstrap=True, max_depth=80, max_features=3, n_estimators=200; total time=  29.8s\n",
      "[CV] END bootstrap=True, max_depth=80, max_features=3, n_estimators=200; total time=  29.7s\n",
      "[CV] END bootstrap=True, max_depth=80, max_features=3, n_estimators=200; total time=  29.9s\n",
      "[CV] END bootstrap=True, max_depth=80, max_features=3, n_estimators=300; total time=  41.9s\n",
      "[CV] END bootstrap=True, max_depth=80, max_features=3, n_estimators=300; total time=  43.4s\n",
      "[CV] END bootstrap=True, max_depth=80, max_features=3, n_estimators=300; total time=  42.9s\n",
      "[CV] END bootstrap=True, max_depth=80, max_features=3, n_estimators=1000; total time= 3.0min\n",
      "[CV] END bootstrap=True, max_depth=80, max_features=3, n_estimators=1000; total time= 2.9min\n",
      "[CV] END bootstrap=True, max_depth=80, max_features=3, n_estimators=1000; total time= 2.9min\n",
      "[CV] END bootstrap=True, max_depth=90, max_features=2, n_estimators=100; total time=  11.3s\n",
      "[CV] END bootstrap=True, max_depth=90, max_features=2, n_estimators=100; total time=  11.5s\n",
      "[CV] END bootstrap=True, max_depth=90, max_features=2, n_estimators=100; total time=  12.5s\n",
      "[CV] END bootstrap=True, max_depth=90, max_features=2, n_estimators=200; total time=  25.1s\n",
      "[CV] END bootstrap=True, max_depth=90, max_features=2, n_estimators=200; total time=  22.9s\n",
      "[CV] END bootstrap=True, max_depth=90, max_features=2, n_estimators=200; total time=  25.3s\n",
      "[CV] END bootstrap=True, max_depth=90, max_features=2, n_estimators=300; total time=  37.8s\n",
      "[CV] END bootstrap=True, max_depth=90, max_features=2, n_estimators=300; total time=  34.9s\n",
      "[CV] END bootstrap=True, max_depth=90, max_features=2, n_estimators=300; total time=  35.0s\n",
      "[CV] END bootstrap=True, max_depth=90, max_features=2, n_estimators=1000; total time= 2.7min\n",
      "[CV] END bootstrap=True, max_depth=90, max_features=2, n_estimators=1000; total time= 2.8min\n",
      "[CV] END bootstrap=True, max_depth=90, max_features=2, n_estimators=1000; total time= 2.7min\n",
      "[CV] END bootstrap=True, max_depth=90, max_features=3, n_estimators=100; total time=  14.9s\n",
      "[CV] END bootstrap=True, max_depth=90, max_features=3, n_estimators=100; total time=  14.7s\n",
      "[CV] END bootstrap=True, max_depth=90, max_features=3, n_estimators=100; total time=  14.9s\n",
      "[CV] END bootstrap=True, max_depth=90, max_features=3, n_estimators=200; total time=  28.6s\n",
      "[CV] END bootstrap=True, max_depth=90, max_features=3, n_estimators=200; total time=  27.8s\n",
      "[CV] END bootstrap=True, max_depth=90, max_features=3, n_estimators=200; total time=  28.2s\n",
      "[CV] END bootstrap=True, max_depth=90, max_features=3, n_estimators=300; total time=  42.9s\n",
      "[CV] END bootstrap=True, max_depth=90, max_features=3, n_estimators=300; total time=  42.9s\n",
      "[CV] END bootstrap=True, max_depth=90, max_features=3, n_estimators=300; total time=  42.3s\n",
      "[CV] END bootstrap=True, max_depth=90, max_features=3, n_estimators=1000; total time= 3.1min\n",
      "[CV] END bootstrap=True, max_depth=90, max_features=3, n_estimators=1000; total time= 2.8min\n",
      "[CV] END bootstrap=True, max_depth=90, max_features=3, n_estimators=1000; total time= 2.9min\n",
      "[CV] END bootstrap=True, max_depth=100, max_features=2, n_estimators=100; total time=  11.3s\n",
      "[CV] END bootstrap=True, max_depth=100, max_features=2, n_estimators=100; total time=  11.1s\n",
      "[CV] END bootstrap=True, max_depth=100, max_features=2, n_estimators=100; total time=  11.0s\n",
      "[CV] END bootstrap=True, max_depth=100, max_features=2, n_estimators=200; total time=  22.0s\n",
      "[CV] END bootstrap=True, max_depth=100, max_features=2, n_estimators=200; total time=  22.1s\n",
      "[CV] END bootstrap=True, max_depth=100, max_features=2, n_estimators=200; total time=  22.1s\n",
      "[CV] END bootstrap=True, max_depth=100, max_features=2, n_estimators=300; total time=  33.2s\n",
      "[CV] END bootstrap=True, max_depth=100, max_features=2, n_estimators=300; total time=  33.0s\n",
      "[CV] END bootstrap=True, max_depth=100, max_features=2, n_estimators=300; total time=  33.3s\n",
      "[CV] END bootstrap=True, max_depth=100, max_features=2, n_estimators=1000; total time= 2.5min\n",
      "[CV] END bootstrap=True, max_depth=100, max_features=2, n_estimators=1000; total time= 2.4min\n",
      "[CV] END bootstrap=True, max_depth=100, max_features=2, n_estimators=1000; total time= 2.4min\n",
      "[CV] END bootstrap=True, max_depth=100, max_features=3, n_estimators=100; total time=  13.5s\n",
      "[CV] END bootstrap=True, max_depth=100, max_features=3, n_estimators=100; total time=  13.3s\n",
      "[CV] END bootstrap=True, max_depth=100, max_features=3, n_estimators=100; total time=  13.4s\n",
      "[CV] END bootstrap=True, max_depth=100, max_features=3, n_estimators=200; total time=  26.6s\n",
      "[CV] END bootstrap=True, max_depth=100, max_features=3, n_estimators=200; total time=  26.5s\n",
      "[CV] END bootstrap=True, max_depth=100, max_features=3, n_estimators=200; total time=  26.6s\n",
      "[CV] END bootstrap=True, max_depth=100, max_features=3, n_estimators=300; total time=  40.0s\n",
      "[CV] END bootstrap=True, max_depth=100, max_features=3, n_estimators=300; total time=  39.9s\n",
      "[CV] END bootstrap=True, max_depth=100, max_features=3, n_estimators=300; total time=  40.0s\n",
      "[CV] END bootstrap=True, max_depth=100, max_features=3, n_estimators=1000; total time= 2.7min\n",
      "[CV] END bootstrap=True, max_depth=100, max_features=3, n_estimators=1000; total time= 2.6min\n",
      "[CV] END bootstrap=True, max_depth=100, max_features=3, n_estimators=1000; total time= 2.6min\n",
      "[CV] END bootstrap=True, max_depth=110, max_features=2, n_estimators=100; total time=  11.3s\n",
      "[CV] END bootstrap=True, max_depth=110, max_features=2, n_estimators=100; total time=  11.0s\n",
      "[CV] END bootstrap=True, max_depth=110, max_features=2, n_estimators=100; total time=  10.9s\n",
      "[CV] END bootstrap=True, max_depth=110, max_features=2, n_estimators=200; total time=  21.9s\n",
      "[CV] END bootstrap=True, max_depth=110, max_features=2, n_estimators=200; total time=  21.9s\n",
      "[CV] END bootstrap=True, max_depth=110, max_features=2, n_estimators=200; total time=  21.8s\n",
      "[CV] END bootstrap=True, max_depth=110, max_features=2, n_estimators=300; total time=  32.9s\n",
      "[CV] END bootstrap=True, max_depth=110, max_features=2, n_estimators=300; total time=  32.9s\n",
      "[CV] END bootstrap=True, max_depth=110, max_features=2, n_estimators=300; total time=  33.2s\n",
      "[CV] END bootstrap=True, max_depth=110, max_features=2, n_estimators=1000; total time= 2.4min\n",
      "[CV] END bootstrap=True, max_depth=110, max_features=2, n_estimators=1000; total time= 2.4min\n",
      "[CV] END bootstrap=True, max_depth=110, max_features=2, n_estimators=1000; total time= 2.4min\n",
      "[CV] END bootstrap=True, max_depth=110, max_features=3, n_estimators=100; total time=  13.6s\n",
      "[CV] END bootstrap=True, max_depth=110, max_features=3, n_estimators=100; total time=  13.3s\n",
      "[CV] END bootstrap=True, max_depth=110, max_features=3, n_estimators=100; total time=  13.3s\n",
      "[CV] END bootstrap=True, max_depth=110, max_features=3, n_estimators=200; total time=  26.5s\n"
     ]
    },
    {
     "name": "stdout",
     "output_type": "stream",
     "text": [
      "[CV] END bootstrap=True, max_depth=110, max_features=3, n_estimators=200; total time=  26.5s\n",
      "[CV] END bootstrap=True, max_depth=110, max_features=3, n_estimators=200; total time=  26.7s\n",
      "[CV] END bootstrap=True, max_depth=110, max_features=3, n_estimators=300; total time=  40.1s\n",
      "[CV] END bootstrap=True, max_depth=110, max_features=3, n_estimators=300; total time=  40.0s\n",
      "[CV] END bootstrap=True, max_depth=110, max_features=3, n_estimators=300; total time=  40.1s\n",
      "[CV] END bootstrap=True, max_depth=110, max_features=3, n_estimators=1000; total time= 2.7min\n",
      "[CV] END bootstrap=True, max_depth=110, max_features=3, n_estimators=1000; total time= 2.8min\n",
      "[CV] END bootstrap=True, max_depth=110, max_features=3, n_estimators=1000; total time= 2.7min\n"
     ]
    },
    {
     "data": {
      "text/plain": [
       "GridSearchCV(cv=3, estimator=RandomForestRegressor(),\n",
       "             param_grid={'bootstrap': [True], 'max_depth': [80, 90, 100, 110],\n",
       "                         'max_features': [2, 3],\n",
       "                         'n_estimators': [100, 200, 300, 1000]},\n",
       "             verbose=2)"
      ]
     },
     "execution_count": 41,
     "metadata": {},
     "output_type": "execute_result"
    }
   ],
   "source": [
    "from sklearn.ensemble import RandomForestRegressor\n",
    "\n",
    "# Create a based model\n",
    "rf = RandomForestRegressor()\n",
    "# Instantiate the grid search model\n",
    "grid_search = GridSearchCV(estimator = rf, param_grid = param_grid, \n",
    "                          cv = 3, verbose = 2)\n",
    "# Fit the grid search to the data\n",
    "grid_search.fit(x_train,y_train)"
   ]
  },
  {
   "cell_type": "code",
   "execution_count": 42,
   "id": "118c3464",
   "metadata": {
    "colab": {
     "base_uri": "https://localhost:8080/"
    },
    "id": "118c3464",
    "outputId": "73107d54-22ce-4d68-936c-f298fb2a350e"
   },
   "outputs": [
    {
     "data": {
      "text/plain": [
       "{'bootstrap': True, 'max_depth': 110, 'max_features': 2, 'n_estimators': 1000}"
      ]
     },
     "execution_count": 42,
     "metadata": {},
     "output_type": "execute_result"
    }
   ],
   "source": [
    "grid_search.best_params_"
   ]
  },
  {
   "cell_type": "code",
   "execution_count": 43,
   "id": "45d547b6",
   "metadata": {},
   "outputs": [
    {
     "data": {
      "text/html": [
       "<div>\n",
       "<style scoped>\n",
       "    .dataframe tbody tr th:only-of-type {\n",
       "        vertical-align: middle;\n",
       "    }\n",
       "\n",
       "    .dataframe tbody tr th {\n",
       "        vertical-align: top;\n",
       "    }\n",
       "\n",
       "    .dataframe thead th {\n",
       "        text-align: right;\n",
       "    }\n",
       "</style>\n",
       "<table border=\"1\" class=\"dataframe\">\n",
       "  <thead>\n",
       "    <tr style=\"text-align: right;\">\n",
       "      <th></th>\n",
       "      <th>mean_fit_time</th>\n",
       "      <th>std_fit_time</th>\n",
       "      <th>mean_score_time</th>\n",
       "      <th>std_score_time</th>\n",
       "      <th>param_bootstrap</th>\n",
       "      <th>param_max_depth</th>\n",
       "      <th>param_max_features</th>\n",
       "      <th>param_n_estimators</th>\n",
       "      <th>params</th>\n",
       "      <th>split0_test_score</th>\n",
       "      <th>split1_test_score</th>\n",
       "      <th>split2_test_score</th>\n",
       "      <th>mean_test_score</th>\n",
       "      <th>std_test_score</th>\n",
       "      <th>rank_test_score</th>\n",
       "    </tr>\n",
       "  </thead>\n",
       "  <tbody>\n",
       "    <tr>\n",
       "      <th>0</th>\n",
       "      <td>10.525700</td>\n",
       "      <td>0.398322</td>\n",
       "      <td>1.464100</td>\n",
       "      <td>0.072802</td>\n",
       "      <td>True</td>\n",
       "      <td>80</td>\n",
       "      <td>2</td>\n",
       "      <td>100</td>\n",
       "      <td>{'bootstrap': True, 'max_depth': 80, 'max_feat...</td>\n",
       "      <td>0.966702</td>\n",
       "      <td>0.965989</td>\n",
       "      <td>0.966718</td>\n",
       "      <td>0.966470</td>\n",
       "      <td>0.000340</td>\n",
       "      <td>14</td>\n",
       "    </tr>\n",
       "    <tr>\n",
       "      <th>1</th>\n",
       "      <td>21.216015</td>\n",
       "      <td>0.071750</td>\n",
       "      <td>2.993252</td>\n",
       "      <td>0.171407</td>\n",
       "      <td>True</td>\n",
       "      <td>80</td>\n",
       "      <td>2</td>\n",
       "      <td>200</td>\n",
       "      <td>{'bootstrap': True, 'max_depth': 80, 'max_feat...</td>\n",
       "      <td>0.966594</td>\n",
       "      <td>0.966604</td>\n",
       "      <td>0.967647</td>\n",
       "      <td>0.966948</td>\n",
       "      <td>0.000494</td>\n",
       "      <td>10</td>\n",
       "    </tr>\n",
       "    <tr>\n",
       "      <th>2</th>\n",
       "      <td>31.304765</td>\n",
       "      <td>0.486260</td>\n",
       "      <td>4.667512</td>\n",
       "      <td>0.471607</td>\n",
       "      <td>True</td>\n",
       "      <td>80</td>\n",
       "      <td>2</td>\n",
       "      <td>300</td>\n",
       "      <td>{'bootstrap': True, 'max_depth': 80, 'max_feat...</td>\n",
       "      <td>0.966820</td>\n",
       "      <td>0.966496</td>\n",
       "      <td>0.967442</td>\n",
       "      <td>0.966919</td>\n",
       "      <td>0.000393</td>\n",
       "      <td>11</td>\n",
       "    </tr>\n",
       "    <tr>\n",
       "      <th>3</th>\n",
       "      <td>105.934383</td>\n",
       "      <td>1.935724</td>\n",
       "      <td>52.317115</td>\n",
       "      <td>1.037634</td>\n",
       "      <td>True</td>\n",
       "      <td>80</td>\n",
       "      <td>2</td>\n",
       "      <td>1000</td>\n",
       "      <td>{'bootstrap': True, 'max_depth': 80, 'max_feat...</td>\n",
       "      <td>0.967266</td>\n",
       "      <td>0.966661</td>\n",
       "      <td>0.967687</td>\n",
       "      <td>0.967205</td>\n",
       "      <td>0.000421</td>\n",
       "      <td>3</td>\n",
       "    </tr>\n",
       "    <tr>\n",
       "      <th>4</th>\n",
       "      <td>12.795681</td>\n",
       "      <td>0.251643</td>\n",
       "      <td>1.350113</td>\n",
       "      <td>0.062834</td>\n",
       "      <td>True</td>\n",
       "      <td>80</td>\n",
       "      <td>3</td>\n",
       "      <td>100</td>\n",
       "      <td>{'bootstrap': True, 'max_depth': 80, 'max_feat...</td>\n",
       "      <td>0.957666</td>\n",
       "      <td>0.958083</td>\n",
       "      <td>0.959223</td>\n",
       "      <td>0.958324</td>\n",
       "      <td>0.000658</td>\n",
       "      <td>27</td>\n",
       "    </tr>\n",
       "    <tr>\n",
       "      <th>5</th>\n",
       "      <td>26.886113</td>\n",
       "      <td>0.172468</td>\n",
       "      <td>2.984355</td>\n",
       "      <td>0.133241</td>\n",
       "      <td>True</td>\n",
       "      <td>80</td>\n",
       "      <td>3</td>\n",
       "      <td>200</td>\n",
       "      <td>{'bootstrap': True, 'max_depth': 80, 'max_feat...</td>\n",
       "      <td>0.958214</td>\n",
       "      <td>0.958185</td>\n",
       "      <td>0.958998</td>\n",
       "      <td>0.958465</td>\n",
       "      <td>0.000376</td>\n",
       "      <td>25</td>\n",
       "    </tr>\n",
       "    <tr>\n",
       "      <th>6</th>\n",
       "      <td>38.588158</td>\n",
       "      <td>0.516900</td>\n",
       "      <td>4.216396</td>\n",
       "      <td>0.250537</td>\n",
       "      <td>True</td>\n",
       "      <td>80</td>\n",
       "      <td>3</td>\n",
       "      <td>300</td>\n",
       "      <td>{'bootstrap': True, 'max_depth': 80, 'max_feat...</td>\n",
       "      <td>0.958306</td>\n",
       "      <td>0.958515</td>\n",
       "      <td>0.959144</td>\n",
       "      <td>0.958655</td>\n",
       "      <td>0.000356</td>\n",
       "      <td>19</td>\n",
       "    </tr>\n",
       "    <tr>\n",
       "      <th>7</th>\n",
       "      <td>129.027408</td>\n",
       "      <td>0.619053</td>\n",
       "      <td>47.694867</td>\n",
       "      <td>0.812333</td>\n",
       "      <td>True</td>\n",
       "      <td>80</td>\n",
       "      <td>3</td>\n",
       "      <td>1000</td>\n",
       "      <td>{'bootstrap': True, 'max_depth': 80, 'max_feat...</td>\n",
       "      <td>0.958261</td>\n",
       "      <td>0.958563</td>\n",
       "      <td>0.959295</td>\n",
       "      <td>0.958706</td>\n",
       "      <td>0.000434</td>\n",
       "      <td>17</td>\n",
       "    </tr>\n",
       "    <tr>\n",
       "      <th>8</th>\n",
       "      <td>10.371553</td>\n",
       "      <td>0.311373</td>\n",
       "      <td>1.504432</td>\n",
       "      <td>0.225104</td>\n",
       "      <td>True</td>\n",
       "      <td>90</td>\n",
       "      <td>2</td>\n",
       "      <td>100</td>\n",
       "      <td>{'bootstrap': True, 'max_depth': 90, 'max_feat...</td>\n",
       "      <td>0.966434</td>\n",
       "      <td>0.965942</td>\n",
       "      <td>0.966654</td>\n",
       "      <td>0.966343</td>\n",
       "      <td>0.000298</td>\n",
       "      <td>15</td>\n",
       "    </tr>\n",
       "    <tr>\n",
       "      <th>9</th>\n",
       "      <td>21.560189</td>\n",
       "      <td>1.004146</td>\n",
       "      <td>2.985694</td>\n",
       "      <td>0.177023</td>\n",
       "      <td>True</td>\n",
       "      <td>90</td>\n",
       "      <td>2</td>\n",
       "      <td>200</td>\n",
       "      <td>{'bootstrap': True, 'max_depth': 90, 'max_feat...</td>\n",
       "      <td>0.967406</td>\n",
       "      <td>0.966832</td>\n",
       "      <td>0.966687</td>\n",
       "      <td>0.966975</td>\n",
       "      <td>0.000310</td>\n",
       "      <td>9</td>\n",
       "    </tr>\n",
       "    <tr>\n",
       "      <th>10</th>\n",
       "      <td>31.452238</td>\n",
       "      <td>0.997972</td>\n",
       "      <td>4.545513</td>\n",
       "      <td>0.323941</td>\n",
       "      <td>True</td>\n",
       "      <td>90</td>\n",
       "      <td>2</td>\n",
       "      <td>300</td>\n",
       "      <td>{'bootstrap': True, 'max_depth': 90, 'max_feat...</td>\n",
       "      <td>0.967043</td>\n",
       "      <td>0.966556</td>\n",
       "      <td>0.967132</td>\n",
       "      <td>0.966910</td>\n",
       "      <td>0.000253</td>\n",
       "      <td>12</td>\n",
       "    </tr>\n",
       "    <tr>\n",
       "      <th>11</th>\n",
       "      <td>109.620790</td>\n",
       "      <td>1.979077</td>\n",
       "      <td>53.223439</td>\n",
       "      <td>1.292336</td>\n",
       "      <td>True</td>\n",
       "      <td>90</td>\n",
       "      <td>2</td>\n",
       "      <td>1000</td>\n",
       "      <td>{'bootstrap': True, 'max_depth': 90, 'max_feat...</td>\n",
       "      <td>0.967204</td>\n",
       "      <td>0.966820</td>\n",
       "      <td>0.967499</td>\n",
       "      <td>0.967174</td>\n",
       "      <td>0.000278</td>\n",
       "      <td>5</td>\n",
       "    </tr>\n",
       "    <tr>\n",
       "      <th>12</th>\n",
       "      <td>13.453973</td>\n",
       "      <td>0.123343</td>\n",
       "      <td>1.476386</td>\n",
       "      <td>0.095821</td>\n",
       "      <td>True</td>\n",
       "      <td>90</td>\n",
       "      <td>3</td>\n",
       "      <td>100</td>\n",
       "      <td>{'bootstrap': True, 'max_depth': 90, 'max_feat...</td>\n",
       "      <td>0.957244</td>\n",
       "      <td>0.957984</td>\n",
       "      <td>0.958682</td>\n",
       "      <td>0.957970</td>\n",
       "      <td>0.000587</td>\n",
       "      <td>32</td>\n",
       "    </tr>\n",
       "    <tr>\n",
       "      <th>13</th>\n",
       "      <td>25.534040</td>\n",
       "      <td>0.352619</td>\n",
       "      <td>2.786883</td>\n",
       "      <td>0.062348</td>\n",
       "      <td>True</td>\n",
       "      <td>90</td>\n",
       "      <td>3</td>\n",
       "      <td>200</td>\n",
       "      <td>{'bootstrap': True, 'max_depth': 90, 'max_feat...</td>\n",
       "      <td>0.958169</td>\n",
       "      <td>0.958091</td>\n",
       "      <td>0.959293</td>\n",
       "      <td>0.958518</td>\n",
       "      <td>0.000549</td>\n",
       "      <td>23</td>\n",
       "    </tr>\n",
       "    <tr>\n",
       "      <th>14</th>\n",
       "      <td>38.414771</td>\n",
       "      <td>0.236968</td>\n",
       "      <td>4.367320</td>\n",
       "      <td>0.149075</td>\n",
       "      <td>True</td>\n",
       "      <td>90</td>\n",
       "      <td>3</td>\n",
       "      <td>300</td>\n",
       "      <td>{'bootstrap': True, 'max_depth': 90, 'max_feat...</td>\n",
       "      <td>0.958220</td>\n",
       "      <td>0.958398</td>\n",
       "      <td>0.959354</td>\n",
       "      <td>0.958657</td>\n",
       "      <td>0.000498</td>\n",
       "      <td>18</td>\n",
       "    </tr>\n",
       "    <tr>\n",
       "      <th>15</th>\n",
       "      <td>129.208931</td>\n",
       "      <td>5.138766</td>\n",
       "      <td>48.048485</td>\n",
       "      <td>1.083560</td>\n",
       "      <td>True</td>\n",
       "      <td>90</td>\n",
       "      <td>3</td>\n",
       "      <td>1000</td>\n",
       "      <td>{'bootstrap': True, 'max_depth': 90, 'max_feat...</td>\n",
       "      <td>0.958126</td>\n",
       "      <td>0.958417</td>\n",
       "      <td>0.959214</td>\n",
       "      <td>0.958586</td>\n",
       "      <td>0.000460</td>\n",
       "      <td>21</td>\n",
       "    </tr>\n",
       "    <tr>\n",
       "      <th>16</th>\n",
       "      <td>9.918839</td>\n",
       "      <td>0.126943</td>\n",
       "      <td>1.318143</td>\n",
       "      <td>0.010311</td>\n",
       "      <td>True</td>\n",
       "      <td>100</td>\n",
       "      <td>2</td>\n",
       "      <td>100</td>\n",
       "      <td>{'bootstrap': True, 'max_depth': 100, 'max_fea...</td>\n",
       "      <td>0.967137</td>\n",
       "      <td>0.966074</td>\n",
       "      <td>0.967373</td>\n",
       "      <td>0.966861</td>\n",
       "      <td>0.000565</td>\n",
       "      <td>13</td>\n",
       "    </tr>\n",
       "    <tr>\n",
       "      <th>17</th>\n",
       "      <td>19.482098</td>\n",
       "      <td>0.020740</td>\n",
       "      <td>2.674719</td>\n",
       "      <td>0.023483</td>\n",
       "      <td>True</td>\n",
       "      <td>100</td>\n",
       "      <td>2</td>\n",
       "      <td>200</td>\n",
       "      <td>{'bootstrap': True, 'max_depth': 100, 'max_fea...</td>\n",
       "      <td>0.967207</td>\n",
       "      <td>0.967369</td>\n",
       "      <td>0.966844</td>\n",
       "      <td>0.967140</td>\n",
       "      <td>0.000219</td>\n",
       "      <td>6</td>\n",
       "    </tr>\n",
       "    <tr>\n",
       "      <th>18</th>\n",
       "      <td>29.225948</td>\n",
       "      <td>0.080816</td>\n",
       "      <td>4.050509</td>\n",
       "      <td>0.053434</td>\n",
       "      <td>True</td>\n",
       "      <td>100</td>\n",
       "      <td>2</td>\n",
       "      <td>300</td>\n",
       "      <td>{'bootstrap': True, 'max_depth': 100, 'max_fea...</td>\n",
       "      <td>0.966882</td>\n",
       "      <td>0.966759</td>\n",
       "      <td>0.967301</td>\n",
       "      <td>0.966981</td>\n",
       "      <td>0.000232</td>\n",
       "      <td>8</td>\n",
       "    </tr>\n",
       "    <tr>\n",
       "      <th>19</th>\n",
       "      <td>98.750368</td>\n",
       "      <td>0.494356</td>\n",
       "      <td>48.085715</td>\n",
       "      <td>0.435242</td>\n",
       "      <td>True</td>\n",
       "      <td>100</td>\n",
       "      <td>2</td>\n",
       "      <td>1000</td>\n",
       "      <td>{'bootstrap': True, 'max_depth': 100, 'max_fea...</td>\n",
       "      <td>0.967078</td>\n",
       "      <td>0.966849</td>\n",
       "      <td>0.967293</td>\n",
       "      <td>0.967074</td>\n",
       "      <td>0.000181</td>\n",
       "      <td>7</td>\n",
       "    </tr>\n",
       "    <tr>\n",
       "      <th>20</th>\n",
       "      <td>12.208002</td>\n",
       "      <td>0.088301</td>\n",
       "      <td>1.264368</td>\n",
       "      <td>0.008901</td>\n",
       "      <td>True</td>\n",
       "      <td>100</td>\n",
       "      <td>3</td>\n",
       "      <td>100</td>\n",
       "      <td>{'bootstrap': True, 'max_depth': 100, 'max_fea...</td>\n",
       "      <td>0.957749</td>\n",
       "      <td>0.958013</td>\n",
       "      <td>0.958371</td>\n",
       "      <td>0.958044</td>\n",
       "      <td>0.000255</td>\n",
       "      <td>31</td>\n",
       "    </tr>\n",
       "    <tr>\n",
       "      <th>21</th>\n",
       "      <td>24.118378</td>\n",
       "      <td>0.049445</td>\n",
       "      <td>2.516606</td>\n",
       "      <td>0.008156</td>\n",
       "      <td>True</td>\n",
       "      <td>100</td>\n",
       "      <td>3</td>\n",
       "      <td>200</td>\n",
       "      <td>{'bootstrap': True, 'max_depth': 100, 'max_fea...</td>\n",
       "      <td>0.957835</td>\n",
       "      <td>0.957945</td>\n",
       "      <td>0.958927</td>\n",
       "      <td>0.958236</td>\n",
       "      <td>0.000491</td>\n",
       "      <td>29</td>\n",
       "    </tr>\n",
       "    <tr>\n",
       "      <th>22</th>\n",
       "      <td>36.290397</td>\n",
       "      <td>0.036276</td>\n",
       "      <td>3.775199</td>\n",
       "      <td>0.009737</td>\n",
       "      <td>True</td>\n",
       "      <td>100</td>\n",
       "      <td>3</td>\n",
       "      <td>300</td>\n",
       "      <td>{'bootstrap': True, 'max_depth': 100, 'max_fea...</td>\n",
       "      <td>0.958200</td>\n",
       "      <td>0.958303</td>\n",
       "      <td>0.958954</td>\n",
       "      <td>0.958486</td>\n",
       "      <td>0.000334</td>\n",
       "      <td>24</td>\n",
       "    </tr>\n",
       "    <tr>\n",
       "      <th>23</th>\n",
       "      <td>122.016294</td>\n",
       "      <td>0.171006</td>\n",
       "      <td>37.079663</td>\n",
       "      <td>1.865912</td>\n",
       "      <td>True</td>\n",
       "      <td>100</td>\n",
       "      <td>3</td>\n",
       "      <td>1000</td>\n",
       "      <td>{'bootstrap': True, 'max_depth': 100, 'max_fea...</td>\n",
       "      <td>0.958021</td>\n",
       "      <td>0.958510</td>\n",
       "      <td>0.959048</td>\n",
       "      <td>0.958526</td>\n",
       "      <td>0.000420</td>\n",
       "      <td>22</td>\n",
       "    </tr>\n",
       "    <tr>\n",
       "      <th>24</th>\n",
       "      <td>9.848132</td>\n",
       "      <td>0.171527</td>\n",
       "      <td>1.299423</td>\n",
       "      <td>0.003065</td>\n",
       "      <td>True</td>\n",
       "      <td>110</td>\n",
       "      <td>2</td>\n",
       "      <td>100</td>\n",
       "      <td>{'bootstrap': True, 'max_depth': 110, 'max_fea...</td>\n",
       "      <td>0.966244</td>\n",
       "      <td>0.964729</td>\n",
       "      <td>0.966539</td>\n",
       "      <td>0.965837</td>\n",
       "      <td>0.000793</td>\n",
       "      <td>16</td>\n",
       "    </tr>\n",
       "    <tr>\n",
       "      <th>25</th>\n",
       "      <td>19.348683</td>\n",
       "      <td>0.016787</td>\n",
       "      <td>2.631627</td>\n",
       "      <td>0.016930</td>\n",
       "      <td>True</td>\n",
       "      <td>110</td>\n",
       "      <td>2</td>\n",
       "      <td>200</td>\n",
       "      <td>{'bootstrap': True, 'max_depth': 110, 'max_fea...</td>\n",
       "      <td>0.967801</td>\n",
       "      <td>0.966423</td>\n",
       "      <td>0.967545</td>\n",
       "      <td>0.967256</td>\n",
       "      <td>0.000599</td>\n",
       "      <td>2</td>\n",
       "    </tr>\n",
       "    <tr>\n",
       "      <th>26</th>\n",
       "      <td>29.088963</td>\n",
       "      <td>0.141934</td>\n",
       "      <td>3.990665</td>\n",
       "      <td>0.011291</td>\n",
       "      <td>True</td>\n",
       "      <td>110</td>\n",
       "      <td>2</td>\n",
       "      <td>300</td>\n",
       "      <td>{'bootstrap': True, 'max_depth': 110, 'max_fea...</td>\n",
       "      <td>0.967210</td>\n",
       "      <td>0.967005</td>\n",
       "      <td>0.967381</td>\n",
       "      <td>0.967199</td>\n",
       "      <td>0.000153</td>\n",
       "      <td>4</td>\n",
       "    </tr>\n",
       "    <tr>\n",
       "      <th>27</th>\n",
       "      <td>98.793266</td>\n",
       "      <td>0.412834</td>\n",
       "      <td>44.929787</td>\n",
       "      <td>2.104251</td>\n",
       "      <td>True</td>\n",
       "      <td>110</td>\n",
       "      <td>2</td>\n",
       "      <td>1000</td>\n",
       "      <td>{'bootstrap': True, 'max_depth': 110, 'max_fea...</td>\n",
       "      <td>0.967290</td>\n",
       "      <td>0.966943</td>\n",
       "      <td>0.967733</td>\n",
       "      <td>0.967322</td>\n",
       "      <td>0.000323</td>\n",
       "      <td>1</td>\n",
       "    </tr>\n",
       "    <tr>\n",
       "      <th>28</th>\n",
       "      <td>12.278029</td>\n",
       "      <td>0.146098</td>\n",
       "      <td>1.263039</td>\n",
       "      <td>0.009244</td>\n",
       "      <td>True</td>\n",
       "      <td>110</td>\n",
       "      <td>3</td>\n",
       "      <td>100</td>\n",
       "      <td>{'bootstrap': True, 'max_depth': 110, 'max_fea...</td>\n",
       "      <td>0.957504</td>\n",
       "      <td>0.958002</td>\n",
       "      <td>0.958758</td>\n",
       "      <td>0.958088</td>\n",
       "      <td>0.000515</td>\n",
       "      <td>30</td>\n",
       "    </tr>\n",
       "    <tr>\n",
       "      <th>29</th>\n",
       "      <td>24.152406</td>\n",
       "      <td>0.084784</td>\n",
       "      <td>2.523919</td>\n",
       "      <td>0.010116</td>\n",
       "      <td>True</td>\n",
       "      <td>110</td>\n",
       "      <td>3</td>\n",
       "      <td>200</td>\n",
       "      <td>{'bootstrap': True, 'max_depth': 110, 'max_fea...</td>\n",
       "      <td>0.957756</td>\n",
       "      <td>0.958209</td>\n",
       "      <td>0.958881</td>\n",
       "      <td>0.958282</td>\n",
       "      <td>0.000462</td>\n",
       "      <td>28</td>\n",
       "    </tr>\n",
       "    <tr>\n",
       "      <th>30</th>\n",
       "      <td>36.357989</td>\n",
       "      <td>0.057587</td>\n",
       "      <td>3.800500</td>\n",
       "      <td>0.011001</td>\n",
       "      <td>True</td>\n",
       "      <td>110</td>\n",
       "      <td>3</td>\n",
       "      <td>300</td>\n",
       "      <td>{'bootstrap': True, 'max_depth': 110, 'max_fea...</td>\n",
       "      <td>0.958219</td>\n",
       "      <td>0.958130</td>\n",
       "      <td>0.958946</td>\n",
       "      <td>0.958432</td>\n",
       "      <td>0.000366</td>\n",
       "      <td>26</td>\n",
       "    </tr>\n",
       "    <tr>\n",
       "      <th>31</th>\n",
       "      <td>121.994500</td>\n",
       "      <td>0.310190</td>\n",
       "      <td>41.748734</td>\n",
       "      <td>1.178738</td>\n",
       "      <td>True</td>\n",
       "      <td>110</td>\n",
       "      <td>3</td>\n",
       "      <td>1000</td>\n",
       "      <td>{'bootstrap': True, 'max_depth': 110, 'max_fea...</td>\n",
       "      <td>0.958197</td>\n",
       "      <td>0.958356</td>\n",
       "      <td>0.959272</td>\n",
       "      <td>0.958609</td>\n",
       "      <td>0.000474</td>\n",
       "      <td>20</td>\n",
       "    </tr>\n",
       "  </tbody>\n",
       "</table>\n",
       "</div>"
      ],
      "text/plain": [
       "    mean_fit_time  std_fit_time  mean_score_time  std_score_time  \\\n",
       "0       10.525700      0.398322         1.464100        0.072802   \n",
       "1       21.216015      0.071750         2.993252        0.171407   \n",
       "2       31.304765      0.486260         4.667512        0.471607   \n",
       "3      105.934383      1.935724        52.317115        1.037634   \n",
       "4       12.795681      0.251643         1.350113        0.062834   \n",
       "5       26.886113      0.172468         2.984355        0.133241   \n",
       "6       38.588158      0.516900         4.216396        0.250537   \n",
       "7      129.027408      0.619053        47.694867        0.812333   \n",
       "8       10.371553      0.311373         1.504432        0.225104   \n",
       "9       21.560189      1.004146         2.985694        0.177023   \n",
       "10      31.452238      0.997972         4.545513        0.323941   \n",
       "11     109.620790      1.979077        53.223439        1.292336   \n",
       "12      13.453973      0.123343         1.476386        0.095821   \n",
       "13      25.534040      0.352619         2.786883        0.062348   \n",
       "14      38.414771      0.236968         4.367320        0.149075   \n",
       "15     129.208931      5.138766        48.048485        1.083560   \n",
       "16       9.918839      0.126943         1.318143        0.010311   \n",
       "17      19.482098      0.020740         2.674719        0.023483   \n",
       "18      29.225948      0.080816         4.050509        0.053434   \n",
       "19      98.750368      0.494356        48.085715        0.435242   \n",
       "20      12.208002      0.088301         1.264368        0.008901   \n",
       "21      24.118378      0.049445         2.516606        0.008156   \n",
       "22      36.290397      0.036276         3.775199        0.009737   \n",
       "23     122.016294      0.171006        37.079663        1.865912   \n",
       "24       9.848132      0.171527         1.299423        0.003065   \n",
       "25      19.348683      0.016787         2.631627        0.016930   \n",
       "26      29.088963      0.141934         3.990665        0.011291   \n",
       "27      98.793266      0.412834        44.929787        2.104251   \n",
       "28      12.278029      0.146098         1.263039        0.009244   \n",
       "29      24.152406      0.084784         2.523919        0.010116   \n",
       "30      36.357989      0.057587         3.800500        0.011001   \n",
       "31     121.994500      0.310190        41.748734        1.178738   \n",
       "\n",
       "   param_bootstrap param_max_depth param_max_features param_n_estimators  \\\n",
       "0             True              80                  2                100   \n",
       "1             True              80                  2                200   \n",
       "2             True              80                  2                300   \n",
       "3             True              80                  2               1000   \n",
       "4             True              80                  3                100   \n",
       "5             True              80                  3                200   \n",
       "6             True              80                  3                300   \n",
       "7             True              80                  3               1000   \n",
       "8             True              90                  2                100   \n",
       "9             True              90                  2                200   \n",
       "10            True              90                  2                300   \n",
       "11            True              90                  2               1000   \n",
       "12            True              90                  3                100   \n",
       "13            True              90                  3                200   \n",
       "14            True              90                  3                300   \n",
       "15            True              90                  3               1000   \n",
       "16            True             100                  2                100   \n",
       "17            True             100                  2                200   \n",
       "18            True             100                  2                300   \n",
       "19            True             100                  2               1000   \n",
       "20            True             100                  3                100   \n",
       "21            True             100                  3                200   \n",
       "22            True             100                  3                300   \n",
       "23            True             100                  3               1000   \n",
       "24            True             110                  2                100   \n",
       "25            True             110                  2                200   \n",
       "26            True             110                  2                300   \n",
       "27            True             110                  2               1000   \n",
       "28            True             110                  3                100   \n",
       "29            True             110                  3                200   \n",
       "30            True             110                  3                300   \n",
       "31            True             110                  3               1000   \n",
       "\n",
       "                                               params  split0_test_score  \\\n",
       "0   {'bootstrap': True, 'max_depth': 80, 'max_feat...           0.966702   \n",
       "1   {'bootstrap': True, 'max_depth': 80, 'max_feat...           0.966594   \n",
       "2   {'bootstrap': True, 'max_depth': 80, 'max_feat...           0.966820   \n",
       "3   {'bootstrap': True, 'max_depth': 80, 'max_feat...           0.967266   \n",
       "4   {'bootstrap': True, 'max_depth': 80, 'max_feat...           0.957666   \n",
       "5   {'bootstrap': True, 'max_depth': 80, 'max_feat...           0.958214   \n",
       "6   {'bootstrap': True, 'max_depth': 80, 'max_feat...           0.958306   \n",
       "7   {'bootstrap': True, 'max_depth': 80, 'max_feat...           0.958261   \n",
       "8   {'bootstrap': True, 'max_depth': 90, 'max_feat...           0.966434   \n",
       "9   {'bootstrap': True, 'max_depth': 90, 'max_feat...           0.967406   \n",
       "10  {'bootstrap': True, 'max_depth': 90, 'max_feat...           0.967043   \n",
       "11  {'bootstrap': True, 'max_depth': 90, 'max_feat...           0.967204   \n",
       "12  {'bootstrap': True, 'max_depth': 90, 'max_feat...           0.957244   \n",
       "13  {'bootstrap': True, 'max_depth': 90, 'max_feat...           0.958169   \n",
       "14  {'bootstrap': True, 'max_depth': 90, 'max_feat...           0.958220   \n",
       "15  {'bootstrap': True, 'max_depth': 90, 'max_feat...           0.958126   \n",
       "16  {'bootstrap': True, 'max_depth': 100, 'max_fea...           0.967137   \n",
       "17  {'bootstrap': True, 'max_depth': 100, 'max_fea...           0.967207   \n",
       "18  {'bootstrap': True, 'max_depth': 100, 'max_fea...           0.966882   \n",
       "19  {'bootstrap': True, 'max_depth': 100, 'max_fea...           0.967078   \n",
       "20  {'bootstrap': True, 'max_depth': 100, 'max_fea...           0.957749   \n",
       "21  {'bootstrap': True, 'max_depth': 100, 'max_fea...           0.957835   \n",
       "22  {'bootstrap': True, 'max_depth': 100, 'max_fea...           0.958200   \n",
       "23  {'bootstrap': True, 'max_depth': 100, 'max_fea...           0.958021   \n",
       "24  {'bootstrap': True, 'max_depth': 110, 'max_fea...           0.966244   \n",
       "25  {'bootstrap': True, 'max_depth': 110, 'max_fea...           0.967801   \n",
       "26  {'bootstrap': True, 'max_depth': 110, 'max_fea...           0.967210   \n",
       "27  {'bootstrap': True, 'max_depth': 110, 'max_fea...           0.967290   \n",
       "28  {'bootstrap': True, 'max_depth': 110, 'max_fea...           0.957504   \n",
       "29  {'bootstrap': True, 'max_depth': 110, 'max_fea...           0.957756   \n",
       "30  {'bootstrap': True, 'max_depth': 110, 'max_fea...           0.958219   \n",
       "31  {'bootstrap': True, 'max_depth': 110, 'max_fea...           0.958197   \n",
       "\n",
       "    split1_test_score  split2_test_score  mean_test_score  std_test_score  \\\n",
       "0            0.965989           0.966718         0.966470        0.000340   \n",
       "1            0.966604           0.967647         0.966948        0.000494   \n",
       "2            0.966496           0.967442         0.966919        0.000393   \n",
       "3            0.966661           0.967687         0.967205        0.000421   \n",
       "4            0.958083           0.959223         0.958324        0.000658   \n",
       "5            0.958185           0.958998         0.958465        0.000376   \n",
       "6            0.958515           0.959144         0.958655        0.000356   \n",
       "7            0.958563           0.959295         0.958706        0.000434   \n",
       "8            0.965942           0.966654         0.966343        0.000298   \n",
       "9            0.966832           0.966687         0.966975        0.000310   \n",
       "10           0.966556           0.967132         0.966910        0.000253   \n",
       "11           0.966820           0.967499         0.967174        0.000278   \n",
       "12           0.957984           0.958682         0.957970        0.000587   \n",
       "13           0.958091           0.959293         0.958518        0.000549   \n",
       "14           0.958398           0.959354         0.958657        0.000498   \n",
       "15           0.958417           0.959214         0.958586        0.000460   \n",
       "16           0.966074           0.967373         0.966861        0.000565   \n",
       "17           0.967369           0.966844         0.967140        0.000219   \n",
       "18           0.966759           0.967301         0.966981        0.000232   \n",
       "19           0.966849           0.967293         0.967074        0.000181   \n",
       "20           0.958013           0.958371         0.958044        0.000255   \n",
       "21           0.957945           0.958927         0.958236        0.000491   \n",
       "22           0.958303           0.958954         0.958486        0.000334   \n",
       "23           0.958510           0.959048         0.958526        0.000420   \n",
       "24           0.964729           0.966539         0.965837        0.000793   \n",
       "25           0.966423           0.967545         0.967256        0.000599   \n",
       "26           0.967005           0.967381         0.967199        0.000153   \n",
       "27           0.966943           0.967733         0.967322        0.000323   \n",
       "28           0.958002           0.958758         0.958088        0.000515   \n",
       "29           0.958209           0.958881         0.958282        0.000462   \n",
       "30           0.958130           0.958946         0.958432        0.000366   \n",
       "31           0.958356           0.959272         0.958609        0.000474   \n",
       "\n",
       "    rank_test_score  \n",
       "0                14  \n",
       "1                10  \n",
       "2                11  \n",
       "3                 3  \n",
       "4                27  \n",
       "5                25  \n",
       "6                19  \n",
       "7                17  \n",
       "8                15  \n",
       "9                 9  \n",
       "10               12  \n",
       "11                5  \n",
       "12               32  \n",
       "13               23  \n",
       "14               18  \n",
       "15               21  \n",
       "16               13  \n",
       "17                6  \n",
       "18                8  \n",
       "19                7  \n",
       "20               31  \n",
       "21               29  \n",
       "22               24  \n",
       "23               22  \n",
       "24               16  \n",
       "25                2  \n",
       "26                4  \n",
       "27                1  \n",
       "28               30  \n",
       "29               28  \n",
       "30               26  \n",
       "31               20  "
      ]
     },
     "execution_count": 43,
     "metadata": {},
     "output_type": "execute_result"
    }
   ],
   "source": [
    "# grid_search.cv_results_ for results\n",
    "# pd.DataFrame for converge into dataframe\n",
    "result_dataframe = pd.DataFrame(grid_search.cv_results_)\n",
    "result_dataframe"
   ]
  },
  {
   "cell_type": "code",
   "execution_count": 44,
   "id": "a1af028d",
   "metadata": {
    "scrolled": true
   },
   "outputs": [
    {
     "data": {
      "text/html": [
       "<div>\n",
       "<style scoped>\n",
       "    .dataframe tbody tr th:only-of-type {\n",
       "        vertical-align: middle;\n",
       "    }\n",
       "\n",
       "    .dataframe tbody tr th {\n",
       "        vertical-align: top;\n",
       "    }\n",
       "\n",
       "    .dataframe thead th {\n",
       "        text-align: right;\n",
       "    }\n",
       "</style>\n",
       "<table border=\"1\" class=\"dataframe\">\n",
       "  <thead>\n",
       "    <tr style=\"text-align: right;\">\n",
       "      <th></th>\n",
       "      <th>param_max_depth</th>\n",
       "      <th>param_max_features</th>\n",
       "      <th>param_n_estimators</th>\n",
       "      <th>mean_test_score</th>\n",
       "    </tr>\n",
       "  </thead>\n",
       "  <tbody>\n",
       "    <tr>\n",
       "      <th>0</th>\n",
       "      <td>80</td>\n",
       "      <td>2</td>\n",
       "      <td>100</td>\n",
       "      <td>0.966470</td>\n",
       "    </tr>\n",
       "    <tr>\n",
       "      <th>1</th>\n",
       "      <td>80</td>\n",
       "      <td>2</td>\n",
       "      <td>200</td>\n",
       "      <td>0.966948</td>\n",
       "    </tr>\n",
       "    <tr>\n",
       "      <th>2</th>\n",
       "      <td>80</td>\n",
       "      <td>2</td>\n",
       "      <td>300</td>\n",
       "      <td>0.966919</td>\n",
       "    </tr>\n",
       "    <tr>\n",
       "      <th>3</th>\n",
       "      <td>80</td>\n",
       "      <td>2</td>\n",
       "      <td>1000</td>\n",
       "      <td>0.967205</td>\n",
       "    </tr>\n",
       "    <tr>\n",
       "      <th>4</th>\n",
       "      <td>80</td>\n",
       "      <td>3</td>\n",
       "      <td>100</td>\n",
       "      <td>0.958324</td>\n",
       "    </tr>\n",
       "    <tr>\n",
       "      <th>5</th>\n",
       "      <td>80</td>\n",
       "      <td>3</td>\n",
       "      <td>200</td>\n",
       "      <td>0.958465</td>\n",
       "    </tr>\n",
       "    <tr>\n",
       "      <th>6</th>\n",
       "      <td>80</td>\n",
       "      <td>3</td>\n",
       "      <td>300</td>\n",
       "      <td>0.958655</td>\n",
       "    </tr>\n",
       "    <tr>\n",
       "      <th>7</th>\n",
       "      <td>80</td>\n",
       "      <td>3</td>\n",
       "      <td>1000</td>\n",
       "      <td>0.958706</td>\n",
       "    </tr>\n",
       "    <tr>\n",
       "      <th>8</th>\n",
       "      <td>90</td>\n",
       "      <td>2</td>\n",
       "      <td>100</td>\n",
       "      <td>0.966343</td>\n",
       "    </tr>\n",
       "    <tr>\n",
       "      <th>9</th>\n",
       "      <td>90</td>\n",
       "      <td>2</td>\n",
       "      <td>200</td>\n",
       "      <td>0.966975</td>\n",
       "    </tr>\n",
       "    <tr>\n",
       "      <th>10</th>\n",
       "      <td>90</td>\n",
       "      <td>2</td>\n",
       "      <td>300</td>\n",
       "      <td>0.966910</td>\n",
       "    </tr>\n",
       "    <tr>\n",
       "      <th>11</th>\n",
       "      <td>90</td>\n",
       "      <td>2</td>\n",
       "      <td>1000</td>\n",
       "      <td>0.967174</td>\n",
       "    </tr>\n",
       "    <tr>\n",
       "      <th>12</th>\n",
       "      <td>90</td>\n",
       "      <td>3</td>\n",
       "      <td>100</td>\n",
       "      <td>0.957970</td>\n",
       "    </tr>\n",
       "    <tr>\n",
       "      <th>13</th>\n",
       "      <td>90</td>\n",
       "      <td>3</td>\n",
       "      <td>200</td>\n",
       "      <td>0.958518</td>\n",
       "    </tr>\n",
       "    <tr>\n",
       "      <th>14</th>\n",
       "      <td>90</td>\n",
       "      <td>3</td>\n",
       "      <td>300</td>\n",
       "      <td>0.958657</td>\n",
       "    </tr>\n",
       "    <tr>\n",
       "      <th>15</th>\n",
       "      <td>90</td>\n",
       "      <td>3</td>\n",
       "      <td>1000</td>\n",
       "      <td>0.958586</td>\n",
       "    </tr>\n",
       "    <tr>\n",
       "      <th>16</th>\n",
       "      <td>100</td>\n",
       "      <td>2</td>\n",
       "      <td>100</td>\n",
       "      <td>0.966861</td>\n",
       "    </tr>\n",
       "    <tr>\n",
       "      <th>17</th>\n",
       "      <td>100</td>\n",
       "      <td>2</td>\n",
       "      <td>200</td>\n",
       "      <td>0.967140</td>\n",
       "    </tr>\n",
       "    <tr>\n",
       "      <th>18</th>\n",
       "      <td>100</td>\n",
       "      <td>2</td>\n",
       "      <td>300</td>\n",
       "      <td>0.966981</td>\n",
       "    </tr>\n",
       "    <tr>\n",
       "      <th>19</th>\n",
       "      <td>100</td>\n",
       "      <td>2</td>\n",
       "      <td>1000</td>\n",
       "      <td>0.967074</td>\n",
       "    </tr>\n",
       "    <tr>\n",
       "      <th>20</th>\n",
       "      <td>100</td>\n",
       "      <td>3</td>\n",
       "      <td>100</td>\n",
       "      <td>0.958044</td>\n",
       "    </tr>\n",
       "    <tr>\n",
       "      <th>21</th>\n",
       "      <td>100</td>\n",
       "      <td>3</td>\n",
       "      <td>200</td>\n",
       "      <td>0.958236</td>\n",
       "    </tr>\n",
       "    <tr>\n",
       "      <th>22</th>\n",
       "      <td>100</td>\n",
       "      <td>3</td>\n",
       "      <td>300</td>\n",
       "      <td>0.958486</td>\n",
       "    </tr>\n",
       "    <tr>\n",
       "      <th>23</th>\n",
       "      <td>100</td>\n",
       "      <td>3</td>\n",
       "      <td>1000</td>\n",
       "      <td>0.958526</td>\n",
       "    </tr>\n",
       "    <tr>\n",
       "      <th>24</th>\n",
       "      <td>110</td>\n",
       "      <td>2</td>\n",
       "      <td>100</td>\n",
       "      <td>0.965837</td>\n",
       "    </tr>\n",
       "    <tr>\n",
       "      <th>25</th>\n",
       "      <td>110</td>\n",
       "      <td>2</td>\n",
       "      <td>200</td>\n",
       "      <td>0.967256</td>\n",
       "    </tr>\n",
       "    <tr>\n",
       "      <th>26</th>\n",
       "      <td>110</td>\n",
       "      <td>2</td>\n",
       "      <td>300</td>\n",
       "      <td>0.967199</td>\n",
       "    </tr>\n",
       "    <tr>\n",
       "      <th>27</th>\n",
       "      <td>110</td>\n",
       "      <td>2</td>\n",
       "      <td>1000</td>\n",
       "      <td>0.967322</td>\n",
       "    </tr>\n",
       "    <tr>\n",
       "      <th>28</th>\n",
       "      <td>110</td>\n",
       "      <td>3</td>\n",
       "      <td>100</td>\n",
       "      <td>0.958088</td>\n",
       "    </tr>\n",
       "    <tr>\n",
       "      <th>29</th>\n",
       "      <td>110</td>\n",
       "      <td>3</td>\n",
       "      <td>200</td>\n",
       "      <td>0.958282</td>\n",
       "    </tr>\n",
       "    <tr>\n",
       "      <th>30</th>\n",
       "      <td>110</td>\n",
       "      <td>3</td>\n",
       "      <td>300</td>\n",
       "      <td>0.958432</td>\n",
       "    </tr>\n",
       "    <tr>\n",
       "      <th>31</th>\n",
       "      <td>110</td>\n",
       "      <td>3</td>\n",
       "      <td>1000</td>\n",
       "      <td>0.958609</td>\n",
       "    </tr>\n",
       "  </tbody>\n",
       "</table>\n",
       "</div>"
      ],
      "text/plain": [
       "   param_max_depth param_max_features param_n_estimators  mean_test_score\n",
       "0               80                  2                100         0.966470\n",
       "1               80                  2                200         0.966948\n",
       "2               80                  2                300         0.966919\n",
       "3               80                  2               1000         0.967205\n",
       "4               80                  3                100         0.958324\n",
       "5               80                  3                200         0.958465\n",
       "6               80                  3                300         0.958655\n",
       "7               80                  3               1000         0.958706\n",
       "8               90                  2                100         0.966343\n",
       "9               90                  2                200         0.966975\n",
       "10              90                  2                300         0.966910\n",
       "11              90                  2               1000         0.967174\n",
       "12              90                  3                100         0.957970\n",
       "13              90                  3                200         0.958518\n",
       "14              90                  3                300         0.958657\n",
       "15              90                  3               1000         0.958586\n",
       "16             100                  2                100         0.966861\n",
       "17             100                  2                200         0.967140\n",
       "18             100                  2                300         0.966981\n",
       "19             100                  2               1000         0.967074\n",
       "20             100                  3                100         0.958044\n",
       "21             100                  3                200         0.958236\n",
       "22             100                  3                300         0.958486\n",
       "23             100                  3               1000         0.958526\n",
       "24             110                  2                100         0.965837\n",
       "25             110                  2                200         0.967256\n",
       "26             110                  2                300         0.967199\n",
       "27             110                  2               1000         0.967322\n",
       "28             110                  3                100         0.958088\n",
       "29             110                  3                200         0.958282\n",
       "30             110                  3                300         0.958432\n",
       "31             110                  3               1000         0.958609"
      ]
     },
     "execution_count": 44,
     "metadata": {},
     "output_type": "execute_result"
    }
   ],
   "source": [
    "result_dataframe[['param_max_depth','param_max_features','param_n_estimators','mean_test_score']]"
   ]
  },
  {
   "cell_type": "code",
   "execution_count": 45,
   "id": "917041b3",
   "metadata": {
    "colab": {
     "base_uri": "https://localhost:8080/",
     "height": 180
    },
    "id": "917041b3",
    "outputId": "44999060-0eab-484f-dcf6-a8cd7a6c24a0"
   },
   "outputs": [
    {
     "data": {
      "text/plain": [
       "RandomForestRegressor(max_depth=110, max_features=2, n_estimators=1000)"
      ]
     },
     "execution_count": 45,
     "metadata": {},
     "output_type": "execute_result"
    }
   ],
   "source": [
    "best_grid = grid_search.best_estimator_\n",
    "best_grid"
   ]
  },
  {
   "cell_type": "code",
   "execution_count": 46,
   "id": "65e08fb3",
   "metadata": {},
   "outputs": [
    {
     "name": "stdout",
     "output_type": "stream",
     "text": [
      "['__abstractmethods__', '__class__', '__delattr__', '__dict__', '__dir__', '__doc__', '__eq__', '__format__', '__ge__', '__getattribute__', '__getstate__', '__gt__', '__hash__', '__init__', '__init_subclass__', '__le__', '__lt__', '__module__', '__ne__', '__new__', '__reduce__', '__reduce_ex__', '__repr__', '__setattr__', '__setstate__', '__sizeof__', '__str__', '__subclasshook__', '__weakref__', '_abc_impl', '_check_is_fitted', '_check_n_features', '_check_refit_for_multimetric', '_estimator_type', '_format_results', '_get_param_names', '_get_tags', '_more_tags', '_pairwise', '_repr_html_', '_repr_html_inner', '_repr_mimebundle_', '_required_parameters', '_run_search', '_validate_data', 'best_estimator_', 'best_index_', 'best_params_', 'best_score_', 'classes_', 'cv', 'cv_results_', 'decision_function', 'error_score', 'estimator', 'fit', 'get_params', 'inverse_transform', 'multimetric_', 'n_features_in_', 'n_jobs', 'n_splits_', 'param_grid', 'pre_dispatch', 'predict', 'predict_log_proba', 'predict_proba', 'refit', 'refit_time_', 'return_train_score', 'score', 'score_samples', 'scorer_', 'scoring', 'set_params', 'transform', 'verbose'] \n",
      "\n",
      "best score =  0.9673218469808577\n"
     ]
    }
   ],
   "source": [
    "print(dir(grid_search),'\\n')\n",
    "print('best score = ',grid_search.best_score_)"
   ]
  },
  {
   "cell_type": "markdown",
   "id": "S408ZVlXr0Gg",
   "metadata": {
    "id": "S408ZVlXr0Gg"
   },
   "source": [
    "## Best Random Forest Regressor Model\n",
    "\n",
    "best parameter:- <br/>\n",
    "{'bootstrap': True, 'max_depth': 110, 'max_features': 2, 'n_estimators': 1000}"
   ]
  },
  {
   "cell_type": "code",
   "execution_count": 47,
   "id": "33c5352a",
   "metadata": {},
   "outputs": [
    {
     "data": {
      "text/plain": [
       "RandomForestRegressor(max_depth=90, max_features=2, n_estimators=1000)"
      ]
     },
     "execution_count": 47,
     "metadata": {},
     "output_type": "execute_result"
    }
   ],
   "source": [
    "from sklearn.ensemble import RandomForestRegressor\n",
    "rf = RandomForestRegressor(bootstrap= True, max_depth= 90, max_features= 2, n_estimators= 1000)\n",
    "rf.fit(x_train , y_train)"
   ]
  },
  {
   "cell_type": "code",
   "execution_count": 48,
   "id": "9f4f4bc2",
   "metadata": {},
   "outputs": [
    {
     "name": "stdout",
     "output_type": "stream",
     "text": [
      "Training score RandomForestRegressor with n_estimators = 1000:  0.9962801137517103\n",
      "Testing Score RandomForestRegressor with n_estimators = 1000:  0.9713175385261987\n",
      "mse value :  0.3729638096185868\n"
     ]
    },
    {
     "data": {
      "image/png": "[encoded data removed]",
      "text/plain": [
       "<Figure size 720x576 with 1 Axes>"
      ]
     },
     "metadata": {
      "needs_background": "light"
     },
     "output_type": "display_data"
    }
   ],
   "source": [
    "from sklearn.metrics import r2_score\n",
    "from sklearn.metrics import mean_squared_error\n",
    "score = rf.score(x_train, y_train)\n",
    "print(\"Training score RandomForestRegressor with n_estimators = 1000: \", score)\n",
    "\n",
    "y_pred = rf.predict(x_test)\n",
    "r_score = r2_score(y_test, y_pred)\n",
    "print(\"Testing Score RandomForestRegressor with n_estimators = 1000: \", r_score)\n",
    "\n",
    "mse = mean_squared_error(y_test, y_pred)\n",
    "print(\"mse value : \", mse)\n",
    "\n",
    "plt.figure(figsize=(10, 8))\n",
    "plt.plot(y_test.values, label='Actual')\n",
    "plt.plot(y_pred, label='Predicted')\n",
    "plt.ylabel(\"db[s(1,1)]\")\n",
    "plt.legend()\n",
    "plt.show()"
   ]
  },
  {
   "cell_type": "markdown",
   "id": "f1779869",
   "metadata": {
    "id": "f1779869"
   },
   "source": [
    "## KNN model"
   ]
  },
  {
   "cell_type": "code",
   "execution_count": 49,
   "id": "91ec80b9",
   "metadata": {
    "colab": {
     "base_uri": "https://localhost:8080/"
    },
    "id": "91ec80b9",
    "outputId": "ab0b61a6-cf51-4a45-fb34-ee020498461c",
    "scrolled": true
   },
   "outputs": [
    {
     "data": {
      "text/html": [
       "<div>\n",
       "<style scoped>\n",
       "    .dataframe tbody tr th:only-of-type {\n",
       "        vertical-align: middle;\n",
       "    }\n",
       "\n",
       "    .dataframe tbody tr th {\n",
       "        vertical-align: top;\n",
       "    }\n",
       "\n",
       "    .dataframe thead th {\n",
       "        text-align: right;\n",
       "    }\n",
       "</style>\n",
       "<table border=\"1\" class=\"dataframe\">\n",
       "  <thead>\n",
       "    <tr style=\"text-align: right;\">\n",
       "      <th></th>\n",
       "      <th>K</th>\n",
       "      <th>MSE</th>\n",
       "      <th>train_acc</th>\n",
       "      <th>test_acc</th>\n",
       "    </tr>\n",
       "  </thead>\n",
       "  <tbody>\n",
       "    <tr>\n",
       "      <th>0</th>\n",
       "      <td>1.0</td>\n",
       "      <td>0.534902</td>\n",
       "      <td>1.000000</td>\n",
       "      <td>0.959367</td>\n",
       "    </tr>\n",
       "    <tr>\n",
       "      <th>1</th>\n",
       "      <td>2.0</td>\n",
       "      <td>0.289786</td>\n",
       "      <td>0.989350</td>\n",
       "      <td>0.977987</td>\n",
       "    </tr>\n",
       "    <tr>\n",
       "      <th>2</th>\n",
       "      <td>3.0</td>\n",
       "      <td>0.483320</td>\n",
       "      <td>0.988373</td>\n",
       "      <td>0.963285</td>\n",
       "    </tr>\n",
       "    <tr>\n",
       "      <th>3</th>\n",
       "      <td>4.0</td>\n",
       "      <td>0.603775</td>\n",
       "      <td>0.977555</td>\n",
       "      <td>0.954135</td>\n",
       "    </tr>\n",
       "    <tr>\n",
       "      <th>4</th>\n",
       "      <td>5.0</td>\n",
       "      <td>0.624247</td>\n",
       "      <td>0.969159</td>\n",
       "      <td>0.952580</td>\n",
       "    </tr>\n",
       "    <tr>\n",
       "      <th>5</th>\n",
       "      <td>6.0</td>\n",
       "      <td>0.585464</td>\n",
       "      <td>0.966027</td>\n",
       "      <td>0.955526</td>\n",
       "    </tr>\n",
       "    <tr>\n",
       "      <th>6</th>\n",
       "      <td>7.0</td>\n",
       "      <td>0.575513</td>\n",
       "      <td>0.966192</td>\n",
       "      <td>0.956282</td>\n",
       "    </tr>\n",
       "    <tr>\n",
       "      <th>7</th>\n",
       "      <td>8.0</td>\n",
       "      <td>0.576338</td>\n",
       "      <td>0.965652</td>\n",
       "      <td>0.956219</td>\n",
       "    </tr>\n",
       "    <tr>\n",
       "      <th>8</th>\n",
       "      <td>9.0</td>\n",
       "      <td>0.585358</td>\n",
       "      <td>0.964596</td>\n",
       "      <td>0.955534</td>\n",
       "    </tr>\n",
       "    <tr>\n",
       "      <th>9</th>\n",
       "      <td>10.0</td>\n",
       "      <td>0.605063</td>\n",
       "      <td>0.963210</td>\n",
       "      <td>0.954037</td>\n",
       "    </tr>\n",
       "    <tr>\n",
       "      <th>10</th>\n",
       "      <td>11.0</td>\n",
       "      <td>0.635925</td>\n",
       "      <td>0.961067</td>\n",
       "      <td>0.951692</td>\n",
       "    </tr>\n",
       "    <tr>\n",
       "      <th>11</th>\n",
       "      <td>12.0</td>\n",
       "      <td>0.663397</td>\n",
       "      <td>0.958496</td>\n",
       "      <td>0.949606</td>\n",
       "    </tr>\n",
       "    <tr>\n",
       "      <th>12</th>\n",
       "      <td>13.0</td>\n",
       "      <td>0.689094</td>\n",
       "      <td>0.955957</td>\n",
       "      <td>0.947653</td>\n",
       "    </tr>\n",
       "    <tr>\n",
       "      <th>13</th>\n",
       "      <td>14.0</td>\n",
       "      <td>0.708019</td>\n",
       "      <td>0.953826</td>\n",
       "      <td>0.946216</td>\n",
       "    </tr>\n",
       "    <tr>\n",
       "      <th>14</th>\n",
       "      <td>15.0</td>\n",
       "      <td>0.718681</td>\n",
       "      <td>0.952231</td>\n",
       "      <td>0.945406</td>\n",
       "    </tr>\n",
       "    <tr>\n",
       "      <th>15</th>\n",
       "      <td>16.0</td>\n",
       "      <td>0.726163</td>\n",
       "      <td>0.950968</td>\n",
       "      <td>0.944838</td>\n",
       "    </tr>\n",
       "    <tr>\n",
       "      <th>16</th>\n",
       "      <td>17.0</td>\n",
       "      <td>0.735136</td>\n",
       "      <td>0.950059</td>\n",
       "      <td>0.944156</td>\n",
       "    </tr>\n",
       "    <tr>\n",
       "      <th>17</th>\n",
       "      <td>18.0</td>\n",
       "      <td>0.741010</td>\n",
       "      <td>0.949315</td>\n",
       "      <td>0.943710</td>\n",
       "    </tr>\n",
       "    <tr>\n",
       "      <th>18</th>\n",
       "      <td>19.0</td>\n",
       "      <td>0.748044</td>\n",
       "      <td>0.948538</td>\n",
       "      <td>0.943175</td>\n",
       "    </tr>\n",
       "    <tr>\n",
       "      <th>19</th>\n",
       "      <td>20.0</td>\n",
       "      <td>0.754949</td>\n",
       "      <td>0.947986</td>\n",
       "      <td>0.942651</td>\n",
       "    </tr>\n",
       "    <tr>\n",
       "      <th>20</th>\n",
       "      <td>21.0</td>\n",
       "      <td>0.763175</td>\n",
       "      <td>0.947264</td>\n",
       "      <td>0.942026</td>\n",
       "    </tr>\n",
       "    <tr>\n",
       "      <th>21</th>\n",
       "      <td>22.0</td>\n",
       "      <td>0.774120</td>\n",
       "      <td>0.946535</td>\n",
       "      <td>0.941195</td>\n",
       "    </tr>\n",
       "    <tr>\n",
       "      <th>22</th>\n",
       "      <td>23.0</td>\n",
       "      <td>0.783975</td>\n",
       "      <td>0.945680</td>\n",
       "      <td>0.940446</td>\n",
       "    </tr>\n",
       "    <tr>\n",
       "      <th>23</th>\n",
       "      <td>24.0</td>\n",
       "      <td>0.793609</td>\n",
       "      <td>0.944843</td>\n",
       "      <td>0.939714</td>\n",
       "    </tr>\n",
       "    <tr>\n",
       "      <th>24</th>\n",
       "      <td>25.0</td>\n",
       "      <td>0.805721</td>\n",
       "      <td>0.943974</td>\n",
       "      <td>0.938794</td>\n",
       "    </tr>\n",
       "    <tr>\n",
       "      <th>25</th>\n",
       "      <td>26.0</td>\n",
       "      <td>0.815960</td>\n",
       "      <td>0.943178</td>\n",
       "      <td>0.938016</td>\n",
       "    </tr>\n",
       "    <tr>\n",
       "      <th>26</th>\n",
       "      <td>27.0</td>\n",
       "      <td>0.823555</td>\n",
       "      <td>0.942367</td>\n",
       "      <td>0.937439</td>\n",
       "    </tr>\n",
       "    <tr>\n",
       "      <th>27</th>\n",
       "      <td>28.0</td>\n",
       "      <td>0.832095</td>\n",
       "      <td>0.941605</td>\n",
       "      <td>0.936791</td>\n",
       "    </tr>\n",
       "    <tr>\n",
       "      <th>28</th>\n",
       "      <td>29.0</td>\n",
       "      <td>0.841076</td>\n",
       "      <td>0.940927</td>\n",
       "      <td>0.936108</td>\n",
       "    </tr>\n",
       "    <tr>\n",
       "      <th>29</th>\n",
       "      <td>30.0</td>\n",
       "      <td>0.846447</td>\n",
       "      <td>0.940275</td>\n",
       "      <td>0.935700</td>\n",
       "    </tr>\n",
       "  </tbody>\n",
       "</table>\n",
       "</div>"
      ],
      "text/plain": [
       "       K       MSE  train_acc  test_acc\n",
       "0    1.0  0.534902   1.000000  0.959367\n",
       "1    2.0  0.289786   0.989350  0.977987\n",
       "2    3.0  0.483320   0.988373  0.963285\n",
       "3    4.0  0.603775   0.977555  0.954135\n",
       "4    5.0  0.624247   0.969159  0.952580\n",
       "5    6.0  0.585464   0.966027  0.955526\n",
       "6    7.0  0.575513   0.966192  0.956282\n",
       "7    8.0  0.576338   0.965652  0.956219\n",
       "8    9.0  0.585358   0.964596  0.955534\n",
       "9   10.0  0.605063   0.963210  0.954037\n",
       "10  11.0  0.635925   0.961067  0.951692\n",
       "11  12.0  0.663397   0.958496  0.949606\n",
       "12  13.0  0.689094   0.955957  0.947653\n",
       "13  14.0  0.708019   0.953826  0.946216\n",
       "14  15.0  0.718681   0.952231  0.945406\n",
       "15  16.0  0.726163   0.950968  0.944838\n",
       "16  17.0  0.735136   0.950059  0.944156\n",
       "17  18.0  0.741010   0.949315  0.943710\n",
       "18  19.0  0.748044   0.948538  0.943175\n",
       "19  20.0  0.754949   0.947986  0.942651\n",
       "20  21.0  0.763175   0.947264  0.942026\n",
       "21  22.0  0.774120   0.946535  0.941195\n",
       "22  23.0  0.783975   0.945680  0.940446\n",
       "23  24.0  0.793609   0.944843  0.939714\n",
       "24  25.0  0.805721   0.943974  0.938794\n",
       "25  26.0  0.815960   0.943178  0.938016\n",
       "26  27.0  0.823555   0.942367  0.937439\n",
       "27  28.0  0.832095   0.941605  0.936791\n",
       "28  29.0  0.841076   0.940927  0.936108\n",
       "29  30.0  0.846447   0.940275  0.935700"
      ]
     },
     "execution_count": 49,
     "metadata": {},
     "output_type": "execute_result"
    }
   ],
   "source": [
    "from sklearn.neighbors import KNeighborsRegressor\n",
    "\n",
    "k_range = range(1,31)\n",
    "df = pd.DataFrame(columns = ['K', 'MSE','train_acc','test_acc'])\n",
    "for K in k_range:\n",
    "    knn = KNeighborsRegressor(n_neighbors = K)\n",
    "    knn.fit(x_train ,y_train)\n",
    "    train_accuracies = knn.score(x_train,y_train)\n",
    "    accuracies = r2_score(y_test, knn.predict(x_test))\n",
    "    mse = mean_squared_error(y_test,  knn.predict(x_test))\n",
    "    df = df.append({'K' : K, 'MSE' : mse, 'train_acc' : train_accuracies, 'test_acc':accuracies}, \n",
    "                ignore_index = True)\n",
    "\n",
    "df"
   ]
  },
  {
   "cell_type": "code",
   "execution_count": 50,
   "id": "ee88738f",
   "metadata": {},
   "outputs": [
    {
     "data": {
      "text/plain": [
       "Text(0.5, 1.0, 'Mean Squared Error values for different k values')"
      ]
     },
     "execution_count": 50,
     "metadata": {},
     "output_type": "execute_result"
    },
    {
     "data": {
      "image/png": "[encoded data removed]",
      "text/plain": [
       "<Figure size 432x288 with 1 Axes>"
      ]
     },
     "metadata": {
      "needs_background": "light"
     },
     "output_type": "display_data"
    }
   ],
   "source": [
    "plt.plot(df['K'], df['MSE'])\n",
    "plt.xlabel('K')\n",
    "plt.ylabel('MSE')\n",
    "plt.title('Mean Squared Error values for different k values')"
   ]
  },
  {
   "cell_type": "code",
   "execution_count": 51,
   "id": "a91bd41a",
   "metadata": {},
   "outputs": [
    {
     "data": {
      "text/plain": [
       "Text(0.5, 1.0, 'Accuracy for different k values')"
      ]
     },
     "execution_count": 51,
     "metadata": {},
     "output_type": "execute_result"
    },
    {
     "data": {
      "image/png": "[encoded data removed]",
      "text/plain": [
       "<Figure size 432x288 with 1 Axes>"
      ]
     },
     "metadata": {
      "needs_background": "light"
     },
     "output_type": "display_data"
    }
   ],
   "source": [
    "plt.plot(df['K'], df['test_acc'])\n",
    "plt.xlabel('K')\n",
    "plt.ylabel('Accuracy')\n",
    "plt.title('Accuracy for different k values')"
   ]
  },
  {
   "cell_type": "markdown",
   "id": "572a4bc4",
   "metadata": {
    "id": "572a4bc4"
   },
   "source": [
    "## Neural Network"
   ]
  },
  {
   "cell_type": "code",
   "execution_count": 50,
   "id": "7c85d85c",
   "metadata": {
    "id": "7c85d85c"
   },
   "outputs": [],
   "source": [
    "import tensorflow\n",
    "tensorflow.random.set_seed(1)\n",
    "from tensorflow.python.keras.layers import Dense\n",
    "from tensorflow.python.keras.models import Sequential\n",
    "from tensorflow.python.keras.wrappers.scikit_learn import KerasRegressor"
   ]
  },
  {
   "cell_type": "code",
   "execution_count": 51,
   "id": "61cd322a",
   "metadata": {
    "colab": {
     "base_uri": "https://localhost:8080/"
    },
    "id": "61cd322a",
    "outputId": "6423cfef-7384-488a-ec59-2364af40b537"
   },
   "outputs": [
    {
     "name": "stdout",
     "output_type": "stream",
     "text": [
      "Model: \"sequential\"\n",
      "_________________________________________________________________\n",
      "Layer (type)                 Output Shape              Param #   \n",
      "=================================================================\n",
      "dense (Dense)                (None, 256)               1280      \n",
      "_________________________________________________________________\n",
      "dense_1 (Dense)              (None, 128)               32896     \n",
      "_________________________________________________________________\n",
      "dense_2 (Dense)              (None, 64)                8256      \n",
      "_________________________________________________________________\n",
      "dense_3 (Dense)              (None, 1)                 65        \n",
      "=================================================================\n",
      "Total params: 42,497\n",
      "Trainable params: 42,497\n",
      "Non-trainable params: 0\n",
      "_________________________________________________________________\n"
     ]
    }
   ],
   "source": [
    "model = Sequential()\n",
    "model.add(Dense(units = 256, input_dim=4, kernel_initializer='normal', activation='relu'))\n",
    "model.add(Dense(units = 128, activation='relu'))\n",
    "model.add(Dense(units = 64, activation='relu'))\n",
    "model.add(Dense(units = 1, activation='linear'))\n",
    "model.summary()"
   ]
  },
  {
   "cell_type": "code",
   "execution_count": 52,
   "id": "c06cb1e5",
   "metadata": {
    "id": "c06cb1e5"
   },
   "outputs": [],
   "source": [
    "model.compile(loss='mse', optimizer='adam', metrics=['mse','mae'])"
   ]
  },
  {
   "cell_type": "code",
   "execution_count": 53,
   "id": "4fef5f1e",
   "metadata": {
    "colab": {
     "base_uri": "https://localhost:8080/"
    },
    "id": "4fef5f1e",
    "outputId": "6d738b68-5213-4f6e-8d5c-f27ffa974826",
    "scrolled": true
   },
   "outputs": [
    {
     "name": "stdout",
     "output_type": "stream",
     "text": [
      "Epoch 1/100\n",
      "865/865 [==============================] - 2s 1ms/step - loss: 10.0428 - mse: 10.0428 - mae: 2.3577 - val_loss: 6.8950 - val_mse: 6.8950 - val_mae: 1.9997\n",
      "Epoch 2/100\n",
      "865/865 [==============================] - 1s 1ms/step - loss: 6.4329 - mse: 6.4329 - mae: 1.8747 - val_loss: 5.8643 - val_mse: 5.8643 - val_mae: 1.7692\n",
      "Epoch 3/100\n",
      "865/865 [==============================] - 1s 1ms/step - loss: 5.7781 - mse: 5.7781 - mae: 1.7409 - val_loss: 5.3245 - val_mse: 5.3245 - val_mae: 1.6560\n",
      "Epoch 4/100\n",
      "865/865 [==============================] - 1s 1ms/step - loss: 5.5101 - mse: 5.5101 - mae: 1.6849 - val_loss: 5.0853 - val_mse: 5.0853 - val_mae: 1.6220\n",
      "Epoch 5/100\n",
      "865/865 [==============================] - 1s 1ms/step - loss: 5.1601 - mse: 5.1601 - mae: 1.6036 - val_loss: 5.4761 - val_mse: 5.4761 - val_mae: 1.7211\n",
      "Epoch 6/100\n",
      "865/865 [==============================] - 1s 1ms/step - loss: 4.9961 - mse: 4.9961 - mae: 1.5664 - val_loss: 4.8988 - val_mse: 4.8988 - val_mae: 1.5725\n",
      "Epoch 7/100\n",
      "865/865 [==============================] - 1s 1ms/step - loss: 4.8341 - mse: 4.8341 - mae: 1.5344 - val_loss: 4.9365 - val_mse: 4.9365 - val_mae: 1.5181\n",
      "Epoch 8/100\n",
      "865/865 [==============================] - 1s 1ms/step - loss: 4.7308 - mse: 4.7308 - mae: 1.5094 - val_loss: 4.6518 - val_mse: 4.6518 - val_mae: 1.5291\n",
      "Epoch 9/100\n",
      "865/865 [==============================] - 1s 1ms/step - loss: 4.6611 - mse: 4.6611 - mae: 1.4927 - val_loss: 4.4438 - val_mse: 4.4438 - val_mae: 1.4680\n",
      "Epoch 10/100\n",
      "865/865 [==============================] - 1s 1ms/step - loss: 4.5698 - mse: 4.5698 - mae: 1.4718 - val_loss: 4.3072 - val_mse: 4.3072 - val_mae: 1.4267\n",
      "Epoch 11/100\n",
      "865/865 [==============================] - 1s 1ms/step - loss: 4.4404 - mse: 4.4404 - mae: 1.4457 - val_loss: 4.3461 - val_mse: 4.3461 - val_mae: 1.4386\n",
      "Epoch 12/100\n",
      "865/865 [==============================] - 1s 1ms/step - loss: 4.2874 - mse: 4.2874 - mae: 1.4174 - val_loss: 4.2646 - val_mse: 4.2646 - val_mae: 1.4220\n",
      "Epoch 13/100\n",
      "865/865 [==============================] - 1s 1ms/step - loss: 4.1841 - mse: 4.1841 - mae: 1.3987 - val_loss: 4.0006 - val_mse: 4.0006 - val_mae: 1.3906\n",
      "Epoch 14/100\n",
      "865/865 [==============================] - 1s 1ms/step - loss: 4.0324 - mse: 4.0324 - mae: 1.3646 - val_loss: 3.8787 - val_mse: 3.8787 - val_mae: 1.3401\n",
      "Epoch 15/100\n",
      "865/865 [==============================] - 1s 1ms/step - loss: 3.8509 - mse: 3.8509 - mae: 1.3218 - val_loss: 3.6048 - val_mse: 3.6048 - val_mae: 1.2542\n",
      "Epoch 16/100\n",
      "865/865 [==============================] - 1s 1ms/step - loss: 3.6546 - mse: 3.6546 - mae: 1.2842 - val_loss: 3.2783 - val_mse: 3.2783 - val_mae: 1.2256\n",
      "Epoch 17/100\n",
      "865/865 [==============================] - 1s 1ms/step - loss: 3.1062 - mse: 3.1062 - mae: 1.1856 - val_loss: 3.2484 - val_mse: 3.2484 - val_mae: 1.1819\n",
      "Epoch 18/100\n",
      "865/865 [==============================] - 1s 1ms/step - loss: 2.5363 - mse: 2.5363 - mae: 1.0753 - val_loss: 2.1701 - val_mse: 2.1701 - val_mae: 0.9915\n",
      "Epoch 19/100\n",
      "865/865 [==============================] - 1s 1ms/step - loss: 2.1933 - mse: 2.1933 - mae: 0.9922 - val_loss: 1.9883 - val_mse: 1.9883 - val_mae: 0.9166\n",
      "Epoch 20/100\n",
      "865/865 [==============================] - 1s 1ms/step - loss: 2.0073 - mse: 2.0073 - mae: 0.9435 - val_loss: 2.1333 - val_mse: 2.1333 - val_mae: 0.9960\n",
      "Epoch 21/100\n",
      "865/865 [==============================] - 1s 1ms/step - loss: 1.9017 - mse: 1.9017 - mae: 0.9080 - val_loss: 1.6828 - val_mse: 1.6828 - val_mae: 0.8325\n",
      "Epoch 22/100\n",
      "865/865 [==============================] - 1s 1ms/step - loss: 1.8233 - mse: 1.8233 - mae: 0.8865 - val_loss: 1.6822 - val_mse: 1.6822 - val_mae: 0.8526\n",
      "Epoch 23/100\n",
      "865/865 [==============================] - 1s 1ms/step - loss: 1.7477 - mse: 1.7477 - mae: 0.8633 - val_loss: 1.8666 - val_mse: 1.8666 - val_mae: 0.9110\n",
      "Epoch 24/100\n",
      "865/865 [==============================] - 1s 1ms/step - loss: 1.7610 - mse: 1.7610 - mae: 0.8615 - val_loss: 1.6077 - val_mse: 1.6077 - val_mae: 0.8280\n",
      "Epoch 25/100\n",
      "865/865 [==============================] - 1s 1ms/step - loss: 1.6876 - mse: 1.6876 - mae: 0.8436 - val_loss: 1.5880 - val_mse: 1.5880 - val_mae: 0.8170\n",
      "Epoch 26/100\n",
      "865/865 [==============================] - 1s 1ms/step - loss: 1.7020 - mse: 1.7020 - mae: 0.8422 - val_loss: 1.4864 - val_mse: 1.4864 - val_mae: 0.7623\n",
      "Epoch 27/100\n",
      "865/865 [==============================] - 1s 2ms/step - loss: 1.6543 - mse: 1.6543 - mae: 0.8324 - val_loss: 1.4907 - val_mse: 1.4907 - val_mae: 0.7850\n",
      "Epoch 28/100\n",
      "865/865 [==============================] - 1s 1ms/step - loss: 1.6829 - mse: 1.6829 - mae: 0.8393 - val_loss: 1.5851 - val_mse: 1.5851 - val_mae: 0.8160\n",
      "Epoch 29/100\n",
      "865/865 [==============================] - 1s 1ms/step - loss: 1.6309 - mse: 1.6309 - mae: 0.8210 - val_loss: 1.4383 - val_mse: 1.4383 - val_mae: 0.7561\n",
      "Epoch 30/100\n",
      "865/865 [==============================] - 1s 1ms/step - loss: 1.6076 - mse: 1.6076 - mae: 0.8164 - val_loss: 1.5366 - val_mse: 1.5366 - val_mae: 0.7845\n",
      "Epoch 31/100\n",
      "865/865 [==============================] - 1s 1ms/step - loss: 1.6372 - mse: 1.6372 - mae: 0.8235 - val_loss: 1.5412 - val_mse: 1.5412 - val_mae: 0.8032\n",
      "Epoch 32/100\n",
      "865/865 [==============================] - 1s 1ms/step - loss: 1.6530 - mse: 1.6530 - mae: 0.8225 - val_loss: 3.5467 - val_mse: 3.5467 - val_mae: 1.2736\n",
      "Epoch 33/100\n",
      "865/865 [==============================] - 1s 1ms/step - loss: 1.5800 - mse: 1.5800 - mae: 0.8022 - val_loss: 1.5865 - val_mse: 1.5865 - val_mae: 0.8315\n",
      "Epoch 34/100\n",
      "865/865 [==============================] - 1s 1ms/step - loss: 1.5597 - mse: 1.5597 - mae: 0.7979 - val_loss: 1.3814 - val_mse: 1.3814 - val_mae: 0.7446\n",
      "Epoch 35/100\n",
      "865/865 [==============================] - 1s 1ms/step - loss: 1.5565 - mse: 1.5565 - mae: 0.7954 - val_loss: 1.3506 - val_mse: 1.3506 - val_mae: 0.7395\n",
      "Epoch 36/100\n",
      "865/865 [==============================] - 1s 1ms/step - loss: 1.5680 - mse: 1.5680 - mae: 0.8033 - val_loss: 1.3934 - val_mse: 1.3934 - val_mae: 0.7375\n",
      "Epoch 37/100\n",
      "865/865 [==============================] - 1s 1ms/step - loss: 1.5372 - mse: 1.5372 - mae: 0.7936 - val_loss: 1.3258 - val_mse: 1.3258 - val_mae: 0.7143\n",
      "Epoch 38/100\n",
      "865/865 [==============================] - 1s 1ms/step - loss: 1.5113 - mse: 1.5113 - mae: 0.7849 - val_loss: 1.3110 - val_mse: 1.3110 - val_mae: 0.7073\n",
      "Epoch 39/100\n",
      "865/865 [==============================] - 1s 1ms/step - loss: 1.4613 - mse: 1.4613 - mae: 0.7664 - val_loss: 1.3378 - val_mse: 1.3378 - val_mae: 0.7302\n",
      "Epoch 40/100\n",
      "865/865 [==============================] - 1s 1ms/step - loss: 1.5161 - mse: 1.5161 - mae: 0.7839 - val_loss: 1.4903 - val_mse: 1.4903 - val_mae: 0.7866\n",
      "Epoch 41/100\n",
      "865/865 [==============================] - 1s 1ms/step - loss: 1.4445 - mse: 1.4445 - mae: 0.7597 - val_loss: 1.5227 - val_mse: 1.5227 - val_mae: 0.8213\n",
      "Epoch 42/100\n",
      "865/865 [==============================] - 1s 1ms/step - loss: 1.4391 - mse: 1.4391 - mae: 0.7587 - val_loss: 1.4397 - val_mse: 1.4397 - val_mae: 0.7689\n",
      "Epoch 43/100\n",
      "865/865 [==============================] - 1s 1ms/step - loss: 1.4696 - mse: 1.4696 - mae: 0.7697 - val_loss: 2.0855 - val_mse: 2.0855 - val_mae: 0.9778\n",
      "Epoch 44/100\n",
      "865/865 [==============================] - 1s 1ms/step - loss: 1.4556 - mse: 1.4556 - mae: 0.7621 - val_loss: 1.2739 - val_mse: 1.2739 - val_mae: 0.7079\n",
      "Epoch 45/100\n",
      "865/865 [==============================] - 1s 1ms/step - loss: 1.4250 - mse: 1.4250 - mae: 0.7583 - val_loss: 1.5121 - val_mse: 1.5121 - val_mae: 0.8263\n",
      "Epoch 46/100\n",
      "865/865 [==============================] - 1s 1ms/step - loss: 1.4743 - mse: 1.4743 - mae: 0.7709 - val_loss: 1.2691 - val_mse: 1.2691 - val_mae: 0.7020\n",
      "Epoch 47/100\n",
      "865/865 [==============================] - 1s 1ms/step - loss: 1.3628 - mse: 1.3628 - mae: 0.7327 - val_loss: 1.2679 - val_mse: 1.2679 - val_mae: 0.7082\n",
      "Epoch 48/100\n",
      "865/865 [==============================] - 1s 1ms/step - loss: 1.4042 - mse: 1.4042 - mae: 0.7509 - val_loss: 1.2572 - val_mse: 1.2572 - val_mae: 0.7119\n",
      "Epoch 49/100\n",
      "865/865 [==============================] - 1s 1ms/step - loss: 1.3888 - mse: 1.3888 - mae: 0.7411 - val_loss: 1.2256 - val_mse: 1.2256 - val_mae: 0.6963\n",
      "Epoch 50/100\n",
      "865/865 [==============================] - 1s 1ms/step - loss: 1.3886 - mse: 1.3886 - mae: 0.7443 - val_loss: 1.4646 - val_mse: 1.4646 - val_mae: 0.8121\n",
      "Epoch 51/100\n",
      "865/865 [==============================] - 1s 1ms/step - loss: 1.3557 - mse: 1.3557 - mae: 0.7332 - val_loss: 1.2187 - val_mse: 1.2187 - val_mae: 0.6916\n",
      "Epoch 52/100\n",
      "865/865 [==============================] - 1s 1ms/step - loss: 1.3605 - mse: 1.3605 - mae: 0.7359 - val_loss: 1.2502 - val_mse: 1.2502 - val_mae: 0.7130\n",
      "Epoch 53/100\n",
      "865/865 [==============================] - 1s 1ms/step - loss: 1.3178 - mse: 1.3178 - mae: 0.7198 - val_loss: 1.3464 - val_mse: 1.3464 - val_mae: 0.7129\n",
      "Epoch 54/100\n",
      "865/865 [==============================] - 1s 1ms/step - loss: 1.3636 - mse: 1.3636 - mae: 0.7306 - val_loss: 1.1728 - val_mse: 1.1728 - val_mae: 0.6682\n",
      "Epoch 55/100\n",
      "865/865 [==============================] - 1s 1ms/step - loss: 1.3285 - mse: 1.3285 - mae: 0.7226 - val_loss: 1.1983 - val_mse: 1.1983 - val_mae: 0.6947\n",
      "Epoch 56/100\n",
      "865/865 [==============================] - 1s 1ms/step - loss: 1.3302 - mse: 1.3302 - mae: 0.7243 - val_loss: 1.4703 - val_mse: 1.4703 - val_mae: 0.8073\n",
      "Epoch 57/100\n",
      "865/865 [==============================] - 1s 1ms/step - loss: 1.3143 - mse: 1.3143 - mae: 0.7188 - val_loss: 1.4490 - val_mse: 1.4490 - val_mae: 0.7716\n",
      "Epoch 58/100\n",
      "865/865 [==============================] - 1s 1ms/step - loss: 1.3260 - mse: 1.3260 - mae: 0.7207 - val_loss: 1.3475 - val_mse: 1.3475 - val_mae: 0.7401\n",
      "Epoch 59/100\n",
      "865/865 [==============================] - 1s 1ms/step - loss: 1.3331 - mse: 1.3331 - mae: 0.7246 - val_loss: 1.4732 - val_mse: 1.4732 - val_mae: 0.8007\n",
      "Epoch 60/100\n",
      "865/865 [==============================] - 1s 1ms/step - loss: 1.3285 - mse: 1.3285 - mae: 0.7225 - val_loss: 1.3002 - val_mse: 1.3002 - val_mae: 0.7137\n",
      "Epoch 61/100\n",
      "865/865 [==============================] - 1s 1ms/step - loss: 1.2829 - mse: 1.2829 - mae: 0.7045 - val_loss: 1.3574 - val_mse: 1.3574 - val_mae: 0.7488\n",
      "Epoch 62/100\n",
      "865/865 [==============================] - 1s 1ms/step - loss: 1.2485 - mse: 1.2485 - mae: 0.6958 - val_loss: 1.1655 - val_mse: 1.1655 - val_mae: 0.6828\n",
      "Epoch 63/100\n",
      "865/865 [==============================] - 1s 1ms/step - loss: 1.3267 - mse: 1.3267 - mae: 0.7212 - val_loss: 1.1741 - val_mse: 1.1741 - val_mae: 0.6822\n",
      "Epoch 64/100\n",
      "865/865 [==============================] - 1s 1ms/step - loss: 1.2870 - mse: 1.2870 - mae: 0.7074 - val_loss: 1.1357 - val_mse: 1.1357 - val_mae: 0.6646\n",
      "Epoch 65/100\n",
      "865/865 [==============================] - 1s 1ms/step - loss: 1.2884 - mse: 1.2884 - mae: 0.7074 - val_loss: 1.6465 - val_mse: 1.6465 - val_mae: 0.8174\n",
      "Epoch 66/100\n",
      "865/865 [==============================] - 1s 1ms/step - loss: 1.2663 - mse: 1.2663 - mae: 0.7026 - val_loss: 1.1929 - val_mse: 1.1929 - val_mae: 0.6690\n",
      "Epoch 67/100\n",
      "865/865 [==============================] - 1s 1ms/step - loss: 1.2698 - mse: 1.2698 - mae: 0.7011 - val_loss: 1.3693 - val_mse: 1.3693 - val_mae: 0.7685\n",
      "Epoch 68/100\n",
      "865/865 [==============================] - 1s 1ms/step - loss: 1.2614 - mse: 1.2614 - mae: 0.6999 - val_loss: 1.2902 - val_mse: 1.2902 - val_mae: 0.7357\n",
      "Epoch 69/100\n",
      "865/865 [==============================] - 1s 1ms/step - loss: 1.2495 - mse: 1.2495 - mae: 0.6937 - val_loss: 1.2534 - val_mse: 1.2534 - val_mae: 0.7088\n",
      "Epoch 70/100\n",
      "865/865 [==============================] - 1s 1ms/step - loss: 1.2474 - mse: 1.2474 - mae: 0.6930 - val_loss: 1.2756 - val_mse: 1.2756 - val_mae: 0.7490\n",
      "Epoch 71/100\n",
      "865/865 [==============================] - 1s 1ms/step - loss: 1.2425 - mse: 1.2425 - mae: 0.6899 - val_loss: 1.3272 - val_mse: 1.3272 - val_mae: 0.7429\n",
      "Epoch 72/100\n",
      "865/865 [==============================] - 1s 1ms/step - loss: 1.2328 - mse: 1.2328 - mae: 0.6874 - val_loss: 1.1152 - val_mse: 1.1152 - val_mae: 0.6486\n",
      "Epoch 73/100\n",
      "865/865 [==============================] - 1s 1ms/step - loss: 1.2255 - mse: 1.2255 - mae: 0.6827 - val_loss: 1.0640 - val_mse: 1.0640 - val_mae: 0.6214\n",
      "Epoch 74/100\n",
      "865/865 [==============================] - 1s 1ms/step - loss: 1.2249 - mse: 1.2249 - mae: 0.6841 - val_loss: 1.2840 - val_mse: 1.2840 - val_mae: 0.7149\n",
      "Epoch 75/100\n",
      "865/865 [==============================] - 1s 1ms/step - loss: 1.2015 - mse: 1.2015 - mae: 0.6801 - val_loss: 1.4304 - val_mse: 1.4304 - val_mae: 0.7635\n",
      "Epoch 76/100\n",
      "865/865 [==============================] - 1s 1ms/step - loss: 1.2136 - mse: 1.2136 - mae: 0.6828 - val_loss: 1.1139 - val_mse: 1.1139 - val_mae: 0.6625\n",
      "Epoch 77/100\n",
      "865/865 [==============================] - 1s 1ms/step - loss: 1.2133 - mse: 1.2133 - mae: 0.6793 - val_loss: 1.4477 - val_mse: 1.4477 - val_mae: 0.8579\n",
      "Epoch 78/100\n",
      "865/865 [==============================] - 1s 1ms/step - loss: 1.2211 - mse: 1.2211 - mae: 0.6825 - val_loss: 1.1098 - val_mse: 1.1098 - val_mae: 0.6477\n",
      "Epoch 79/100\n",
      "865/865 [==============================] - 1s 1ms/step - loss: 1.1640 - mse: 1.1640 - mae: 0.6608 - val_loss: 1.0398 - val_mse: 1.0398 - val_mae: 0.6248\n",
      "Epoch 80/100\n",
      "865/865 [==============================] - 1s 1ms/step - loss: 1.1912 - mse: 1.1912 - mae: 0.6722 - val_loss: 1.2713 - val_mse: 1.2713 - val_mae: 0.7241\n",
      "Epoch 81/100\n",
      "865/865 [==============================] - 1s 1ms/step - loss: 1.2024 - mse: 1.2024 - mae: 0.6773 - val_loss: 1.3053 - val_mse: 1.3053 - val_mae: 0.6854\n",
      "Epoch 82/100\n",
      "865/865 [==============================] - 1s 1ms/step - loss: 1.1827 - mse: 1.1827 - mae: 0.6670 - val_loss: 1.4444 - val_mse: 1.4444 - val_mae: 0.7687\n",
      "Epoch 83/100\n",
      "865/865 [==============================] - 1s 1ms/step - loss: 1.1716 - mse: 1.1716 - mae: 0.6663 - val_loss: 1.0835 - val_mse: 1.0835 - val_mae: 0.6472\n",
      "Epoch 84/100\n",
      "865/865 [==============================] - 1s 1ms/step - loss: 1.1900 - mse: 1.1900 - mae: 0.6729 - val_loss: 1.2028 - val_mse: 1.2028 - val_mae: 0.7302\n",
      "Epoch 85/100\n",
      "865/865 [==============================] - 1s 1ms/step - loss: 1.1758 - mse: 1.1758 - mae: 0.6683 - val_loss: 1.1163 - val_mse: 1.1163 - val_mae: 0.6377\n",
      "Epoch 86/100\n",
      "865/865 [==============================] - 1s 1ms/step - loss: 1.1617 - mse: 1.1617 - mae: 0.6636 - val_loss: 1.1103 - val_mse: 1.1103 - val_mae: 0.6397\n",
      "Epoch 87/100\n",
      "865/865 [==============================] - 1s 1ms/step - loss: 1.1696 - mse: 1.1696 - mae: 0.6643 - val_loss: 1.1397 - val_mse: 1.1397 - val_mae: 0.6699\n",
      "Epoch 88/100\n",
      "865/865 [==============================] - 1s 1ms/step - loss: 1.1568 - mse: 1.1568 - mae: 0.6596 - val_loss: 1.5085 - val_mse: 1.5085 - val_mae: 0.7433\n",
      "Epoch 89/100\n",
      "865/865 [==============================] - 1s 1ms/step - loss: 1.1811 - mse: 1.1811 - mae: 0.6724 - val_loss: 1.0483 - val_mse: 1.0483 - val_mae: 0.6229\n",
      "Epoch 90/100\n",
      "865/865 [==============================] - 1s 1ms/step - loss: 1.1526 - mse: 1.1526 - mae: 0.6544 - val_loss: 1.0560 - val_mse: 1.0560 - val_mae: 0.6323\n",
      "Epoch 91/100\n",
      "865/865 [==============================] - 1s 1ms/step - loss: 1.1457 - mse: 1.1457 - mae: 0.6555 - val_loss: 2.4712 - val_mse: 2.4712 - val_mae: 1.0496\n",
      "Epoch 92/100\n",
      "865/865 [==============================] - 1s 1ms/step - loss: 1.1533 - mse: 1.1533 - mae: 0.6582 - val_loss: 1.0756 - val_mse: 1.0756 - val_mae: 0.6442\n",
      "Epoch 93/100\n",
      "865/865 [==============================] - 1s 1ms/step - loss: 1.1374 - mse: 1.1374 - mae: 0.6541 - val_loss: 1.1006 - val_mse: 1.1006 - val_mae: 0.6505\n",
      "Epoch 94/100\n",
      "865/865 [==============================] - 1s 1ms/step - loss: 1.1210 - mse: 1.1210 - mae: 0.6473 - val_loss: 0.9973 - val_mse: 0.9973 - val_mae: 0.6104\n",
      "Epoch 95/100\n",
      "865/865 [==============================] - 1s 1ms/step - loss: 1.1256 - mse: 1.1256 - mae: 0.6491 - val_loss: 1.2073 - val_mse: 1.2073 - val_mae: 0.6921\n",
      "Epoch 96/100\n",
      "865/865 [==============================] - 1s 1ms/step - loss: 1.1366 - mse: 1.1366 - mae: 0.6530 - val_loss: 1.0120 - val_mse: 1.0120 - val_mae: 0.6133\n",
      "Epoch 97/100\n",
      "865/865 [==============================] - 1s 1ms/step - loss: 1.1024 - mse: 1.1024 - mae: 0.6433 - val_loss: 1.1989 - val_mse: 1.1989 - val_mae: 0.6937\n",
      "Epoch 98/100\n",
      "865/865 [==============================] - 1s 1ms/step - loss: 1.1010 - mse: 1.1010 - mae: 0.6402 - val_loss: 1.0650 - val_mse: 1.0650 - val_mae: 0.6200\n",
      "Epoch 99/100\n"
     ]
    },
    {
     "name": "stdout",
     "output_type": "stream",
     "text": [
      "865/865 [==============================] - 1s 1ms/step - loss: 1.1146 - mse: 1.1146 - mae: 0.6426 - val_loss: 1.0487 - val_mse: 1.0487 - val_mae: 0.6341\n",
      "Epoch 100/100\n",
      "865/865 [==============================] - 1s 1ms/step - loss: 1.0956 - mse: 1.0956 - mae: 0.6401 - val_loss: 1.0011 - val_mse: 1.0011 - val_mae: 0.6031\n"
     ]
    }
   ],
   "source": [
    "history=model.fit(x_train, y_train, epochs=100, batch_size=150, verbose=1, validation_split=0.2)\n",
    "predictions = model.predict(x_test)"
   ]
  },
  {
   "cell_type": "code",
   "execution_count": 54,
   "id": "16efb7bb",
   "metadata": {
    "colab": {
     "base_uri": "https://localhost:8080/"
    },
    "id": "16efb7bb",
    "outputId": "b717bec0-6ef0-451e-db27-cee922117295"
   },
   "outputs": [
    {
     "name": "stdout",
     "output_type": "stream",
     "text": [
      "Testing Score:  0.9243681554813781\n",
      "mse value :  0.9834560707389479\n"
     ]
    }
   ],
   "source": [
    "Neural_score = r2_score(y_test, predictions)\n",
    "print(\"Testing Score: \", Neural_score)\n",
    "\n",
    "mse = mean_squared_error(y_test, predictions)\n",
    "print(\"mse value : \", mse)"
   ]
  },
  {
   "cell_type": "code",
   "execution_count": 55,
   "id": "28d87096",
   "metadata": {
    "colab": {
     "base_uri": "https://localhost:8080/",
     "height": 312
    },
    "id": "28d87096",
    "outputId": "d304c5c5-2f20-47b8-d90f-681a7a3970c7"
   },
   "outputs": [
    {
     "name": "stdout",
     "output_type": "stream",
     "text": [
      "dict_keys(['loss', 'mse', 'mae', 'val_loss', 'val_mse', 'val_mae'])\n"
     ]
    },
    {
     "data": {
      "image/png": "[encoded data removed]",
      "text/plain": [
       "<Figure size 432x288 with 1 Axes>"
      ]
     },
     "metadata": {
      "needs_background": "light"
     },
     "output_type": "display_data"
    }
   ],
   "source": [
    "print(history.history.keys())\n",
    "# \"Loss\"\n",
    "plt.plot(history.history['loss'])\n",
    "plt.plot(history.history['val_loss'])\n",
    "plt.title('model loss')\n",
    "plt.ylabel('loss')\n",
    "plt.xlabel('epoch')\n",
    "plt.legend(['train', 'validation'], loc='upper left')\n",
    "plt.show()"
   ]
  },
  {
   "cell_type": "code",
   "execution_count": 56,
   "id": "549f32dc",
   "metadata": {},
   "outputs": [
    {
     "data": {
      "image/png": "[encoded data removed]",
      "text/plain": [
       "<Figure size 720x576 with 1 Axes>"
      ]
     },
     "metadata": {
      "needs_background": "light"
     },
     "output_type": "display_data"
    }
   ],
   "source": [
    "plt.figure(figsize=(10, 8))\n",
    "plt.plot(predictions, label='Predicted')\n",
    "plt.plot(y_test.values, label='Actual')\n",
    "plt.ylabel(\"db[s(1,1)]\")\n",
    "plt.legend()\n",
    "plt.show()"
   ]
  },
  {
   "cell_type": "markdown",
   "id": "6bf83493",
   "metadata": {},
   "source": [
    "##  Optimizing The Antenna Design Parameters"
   ]
  },
  {
   "cell_type": "markdown",
   "id": "5b635345",
   "metadata": {},
   "source": [
    "### Preparing New Datasets"
   ]
  },
  {
   "cell_type": "code",
   "execution_count": 65,
   "id": "c9237b5f",
   "metadata": {},
   "outputs": [],
   "source": [
    "d = pd.DataFrame(np.arange(start=0.2, stop=0.5, step=0.1),columns=['d'])\n",
    "h = pd.DataFrame(np.arange(start=-3, stop=-7.1, step=-0.1),columns=['h'])\n",
    "l = pd.DataFrame(np.arange(start=7, stop=10.1, step=0.1),columns=['l'])"
   ]
  },
  {
   "cell_type": "code",
   "execution_count": 66,
   "id": "e84dbecc",
   "metadata": {},
   "outputs": [
    {
     "data": {
      "text/html": [
       "<div>\n",
       "<style scoped>\n",
       "    .dataframe tbody tr th:only-of-type {\n",
       "        vertical-align: middle;\n",
       "    }\n",
       "\n",
       "    .dataframe tbody tr th {\n",
       "        vertical-align: top;\n",
       "    }\n",
       "\n",
       "    .dataframe thead th {\n",
       "        text-align: right;\n",
       "    }\n",
       "</style>\n",
       "<table border=\"1\" class=\"dataframe\">\n",
       "  <thead>\n",
       "    <tr style=\"text-align: right;\">\n",
       "      <th></th>\n",
       "      <th>d</th>\n",
       "    </tr>\n",
       "  </thead>\n",
       "  <tbody>\n",
       "    <tr>\n",
       "      <th>0</th>\n",
       "      <td>0.2</td>\n",
       "    </tr>\n",
       "    <tr>\n",
       "      <th>1</th>\n",
       "      <td>0.3</td>\n",
       "    </tr>\n",
       "    <tr>\n",
       "      <th>2</th>\n",
       "      <td>0.4</td>\n",
       "    </tr>\n",
       "  </tbody>\n",
       "</table>\n",
       "</div>"
      ],
      "text/plain": [
       "     d\n",
       "0  0.2\n",
       "1  0.3\n",
       "2  0.4"
      ]
     },
     "execution_count": 66,
     "metadata": {},
     "output_type": "execute_result"
    }
   ],
   "source": [
    "d"
   ]
  },
  {
   "cell_type": "code",
   "execution_count": 67,
   "id": "d73776ce",
   "metadata": {},
   "outputs": [
    {
     "data": {
      "text/html": [
       "<div>\n",
       "<style scoped>\n",
       "    .dataframe tbody tr th:only-of-type {\n",
       "        vertical-align: middle;\n",
       "    }\n",
       "\n",
       "    .dataframe tbody tr th {\n",
       "        vertical-align: top;\n",
       "    }\n",
       "\n",
       "    .dataframe thead th {\n",
       "        text-align: right;\n",
       "    }\n",
       "</style>\n",
       "<table border=\"1\" class=\"dataframe\">\n",
       "  <thead>\n",
       "    <tr style=\"text-align: right;\">\n",
       "      <th></th>\n",
       "      <th>Freq</th>\n",
       "    </tr>\n",
       "  </thead>\n",
       "  <tbody>\n",
       "    <tr>\n",
       "      <th>0</th>\n",
       "      <td>2.9000</td>\n",
       "    </tr>\n",
       "    <tr>\n",
       "      <th>1</th>\n",
       "      <td>2.9935</td>\n",
       "    </tr>\n",
       "    <tr>\n",
       "      <th>2</th>\n",
       "      <td>3.0870</td>\n",
       "    </tr>\n",
       "    <tr>\n",
       "      <th>3</th>\n",
       "      <td>3.1805</td>\n",
       "    </tr>\n",
       "    <tr>\n",
       "      <th>4</th>\n",
       "      <td>3.2740</td>\n",
       "    </tr>\n",
       "    <tr>\n",
       "      <th>...</th>\n",
       "      <td>...</td>\n",
       "    </tr>\n",
       "    <tr>\n",
       "      <th>196</th>\n",
       "      <td>21.2260</td>\n",
       "    </tr>\n",
       "    <tr>\n",
       "      <th>197</th>\n",
       "      <td>21.3195</td>\n",
       "    </tr>\n",
       "    <tr>\n",
       "      <th>198</th>\n",
       "      <td>21.4130</td>\n",
       "    </tr>\n",
       "    <tr>\n",
       "      <th>199</th>\n",
       "      <td>21.5065</td>\n",
       "    </tr>\n",
       "    <tr>\n",
       "      <th>200</th>\n",
       "      <td>21.6000</td>\n",
       "    </tr>\n",
       "  </tbody>\n",
       "</table>\n",
       "<p>201 rows × 1 columns</p>\n",
       "</div>"
      ],
      "text/plain": [
       "        Freq\n",
       "0     2.9000\n",
       "1     2.9935\n",
       "2     3.0870\n",
       "3     3.1805\n",
       "4     3.2740\n",
       "..       ...\n",
       "196  21.2260\n",
       "197  21.3195\n",
       "198  21.4130\n",
       "199  21.5065\n",
       "200  21.6000\n",
       "\n",
       "[201 rows x 1 columns]"
      ]
     },
     "execution_count": 67,
     "metadata": {},
     "output_type": "execute_result"
    }
   ],
   "source": [
    "Freq = pd.read_excel('Freq.xlsx')\n",
    "Freq"
   ]
  },
  {
   "cell_type": "markdown",
   "id": "d4ac7d5a",
   "metadata": {},
   "source": [
    "### Merging d and l column"
   ]
  },
  {
   "cell_type": "code",
   "execution_count": 68,
   "id": "10455b83",
   "metadata": {},
   "outputs": [
    {
     "data": {
      "text/html": [
       "<div>\n",
       "<style scoped>\n",
       "    .dataframe tbody tr th:only-of-type {\n",
       "        vertical-align: middle;\n",
       "    }\n",
       "\n",
       "    .dataframe tbody tr th {\n",
       "        vertical-align: top;\n",
       "    }\n",
       "\n",
       "    .dataframe thead th {\n",
       "        text-align: right;\n",
       "    }\n",
       "</style>\n",
       "<table border=\"1\" class=\"dataframe\">\n",
       "  <thead>\n",
       "    <tr style=\"text-align: right;\">\n",
       "      <th></th>\n",
       "      <th>d</th>\n",
       "      <th>h</th>\n",
       "    </tr>\n",
       "  </thead>\n",
       "  <tbody>\n",
       "    <tr>\n",
       "      <th>0</th>\n",
       "      <td>0.2</td>\n",
       "      <td>-3.0</td>\n",
       "    </tr>\n",
       "    <tr>\n",
       "      <th>1</th>\n",
       "      <td>0.2</td>\n",
       "      <td>-3.1</td>\n",
       "    </tr>\n",
       "    <tr>\n",
       "      <th>2</th>\n",
       "      <td>0.2</td>\n",
       "      <td>-3.2</td>\n",
       "    </tr>\n",
       "    <tr>\n",
       "      <th>3</th>\n",
       "      <td>0.2</td>\n",
       "      <td>-3.3</td>\n",
       "    </tr>\n",
       "    <tr>\n",
       "      <th>4</th>\n",
       "      <td>0.2</td>\n",
       "      <td>-3.4</td>\n",
       "    </tr>\n",
       "    <tr>\n",
       "      <th>...</th>\n",
       "      <td>...</td>\n",
       "      <td>...</td>\n",
       "    </tr>\n",
       "    <tr>\n",
       "      <th>118</th>\n",
       "      <td>0.4</td>\n",
       "      <td>-6.6</td>\n",
       "    </tr>\n",
       "    <tr>\n",
       "      <th>119</th>\n",
       "      <td>0.4</td>\n",
       "      <td>-6.7</td>\n",
       "    </tr>\n",
       "    <tr>\n",
       "      <th>120</th>\n",
       "      <td>0.4</td>\n",
       "      <td>-6.8</td>\n",
       "    </tr>\n",
       "    <tr>\n",
       "      <th>121</th>\n",
       "      <td>0.4</td>\n",
       "      <td>-6.9</td>\n",
       "    </tr>\n",
       "    <tr>\n",
       "      <th>122</th>\n",
       "      <td>0.4</td>\n",
       "      <td>-7.0</td>\n",
       "    </tr>\n",
       "  </tbody>\n",
       "</table>\n",
       "<p>123 rows × 2 columns</p>\n",
       "</div>"
      ],
      "text/plain": [
       "       d    h\n",
       "0    0.2 -3.0\n",
       "1    0.2 -3.1\n",
       "2    0.2 -3.2\n",
       "3    0.2 -3.3\n",
       "4    0.2 -3.4\n",
       "..   ...  ...\n",
       "118  0.4 -6.6\n",
       "119  0.4 -6.7\n",
       "120  0.4 -6.8\n",
       "121  0.4 -6.9\n",
       "122  0.4 -7.0\n",
       "\n",
       "[123 rows x 2 columns]"
      ]
     },
     "execution_count": 68,
     "metadata": {},
     "output_type": "execute_result"
    }
   ],
   "source": [
    "d['tmp'] = 1\n",
    "h['tmp'] = 1\n",
    "\n",
    "new_dataset = pd.merge(d, h, on=['tmp'])\n",
    "new_dataset = new_dataset.drop('tmp', axis=1)\n",
    "new_dataset"
   ]
  },
  {
   "cell_type": "code",
   "execution_count": 69,
   "id": "30050aa0",
   "metadata": {},
   "outputs": [
    {
     "data": {
      "text/html": [
       "<div>\n",
       "<style scoped>\n",
       "    .dataframe tbody tr th:only-of-type {\n",
       "        vertical-align: middle;\n",
       "    }\n",
       "\n",
       "    .dataframe tbody tr th {\n",
       "        vertical-align: top;\n",
       "    }\n",
       "\n",
       "    .dataframe thead th {\n",
       "        text-align: right;\n",
       "    }\n",
       "</style>\n",
       "<table border=\"1\" class=\"dataframe\">\n",
       "  <thead>\n",
       "    <tr style=\"text-align: right;\">\n",
       "      <th></th>\n",
       "      <th>d</th>\n",
       "      <th>h</th>\n",
       "      <th>l</th>\n",
       "    </tr>\n",
       "  </thead>\n",
       "  <tbody>\n",
       "    <tr>\n",
       "      <th>0</th>\n",
       "      <td>0.2</td>\n",
       "      <td>-3.0</td>\n",
       "      <td>7.0</td>\n",
       "    </tr>\n",
       "    <tr>\n",
       "      <th>1</th>\n",
       "      <td>0.2</td>\n",
       "      <td>-3.0</td>\n",
       "      <td>7.1</td>\n",
       "    </tr>\n",
       "    <tr>\n",
       "      <th>2</th>\n",
       "      <td>0.2</td>\n",
       "      <td>-3.0</td>\n",
       "      <td>7.2</td>\n",
       "    </tr>\n",
       "    <tr>\n",
       "      <th>3</th>\n",
       "      <td>0.2</td>\n",
       "      <td>-3.0</td>\n",
       "      <td>7.3</td>\n",
       "    </tr>\n",
       "    <tr>\n",
       "      <th>4</th>\n",
       "      <td>0.2</td>\n",
       "      <td>-3.0</td>\n",
       "      <td>7.4</td>\n",
       "    </tr>\n",
       "    <tr>\n",
       "      <th>...</th>\n",
       "      <td>...</td>\n",
       "      <td>...</td>\n",
       "      <td>...</td>\n",
       "    </tr>\n",
       "    <tr>\n",
       "      <th>3808</th>\n",
       "      <td>0.4</td>\n",
       "      <td>-7.0</td>\n",
       "      <td>9.6</td>\n",
       "    </tr>\n",
       "    <tr>\n",
       "      <th>3809</th>\n",
       "      <td>0.4</td>\n",
       "      <td>-7.0</td>\n",
       "      <td>9.7</td>\n",
       "    </tr>\n",
       "    <tr>\n",
       "      <th>3810</th>\n",
       "      <td>0.4</td>\n",
       "      <td>-7.0</td>\n",
       "      <td>9.8</td>\n",
       "    </tr>\n",
       "    <tr>\n",
       "      <th>3811</th>\n",
       "      <td>0.4</td>\n",
       "      <td>-7.0</td>\n",
       "      <td>9.9</td>\n",
       "    </tr>\n",
       "    <tr>\n",
       "      <th>3812</th>\n",
       "      <td>0.4</td>\n",
       "      <td>-7.0</td>\n",
       "      <td>10.0</td>\n",
       "    </tr>\n",
       "  </tbody>\n",
       "</table>\n",
       "<p>3813 rows × 3 columns</p>\n",
       "</div>"
      ],
      "text/plain": [
       "        d    h     l\n",
       "0     0.2 -3.0   7.0\n",
       "1     0.2 -3.0   7.1\n",
       "2     0.2 -3.0   7.2\n",
       "3     0.2 -3.0   7.3\n",
       "4     0.2 -3.0   7.4\n",
       "...   ...  ...   ...\n",
       "3808  0.4 -7.0   9.6\n",
       "3809  0.4 -7.0   9.7\n",
       "3810  0.4 -7.0   9.8\n",
       "3811  0.4 -7.0   9.9\n",
       "3812  0.4 -7.0  10.0\n",
       "\n",
       "[3813 rows x 3 columns]"
      ]
     },
     "execution_count": 69,
     "metadata": {},
     "output_type": "execute_result"
    }
   ],
   "source": [
    "new_dataset['tmp'] = 1\n",
    "l['tmp'] = 1\n",
    "\n",
    "new_dataset = pd.merge(new_dataset, l, on=['tmp'])\n",
    "new_dataset = new_dataset.drop('tmp', axis=1)\n",
    "new_dataset"
   ]
  },
  {
   "cell_type": "markdown",
   "id": "263bc93b",
   "metadata": {},
   "source": [
    "### New Dataset"
   ]
  },
  {
   "cell_type": "code",
   "execution_count": 70,
   "id": "e9ce2084",
   "metadata": {},
   "outputs": [
    {
     "data": {
      "text/html": [
       "<div>\n",
       "<style scoped>\n",
       "    .dataframe tbody tr th:only-of-type {\n",
       "        vertical-align: middle;\n",
       "    }\n",
       "\n",
       "    .dataframe tbody tr th {\n",
       "        vertical-align: top;\n",
       "    }\n",
       "\n",
       "    .dataframe thead th {\n",
       "        text-align: right;\n",
       "    }\n",
       "</style>\n",
       "<table border=\"1\" class=\"dataframe\">\n",
       "  <thead>\n",
       "    <tr style=\"text-align: right;\">\n",
       "      <th></th>\n",
       "      <th>d</th>\n",
       "      <th>h</th>\n",
       "      <th>l</th>\n",
       "      <th>Freq</th>\n",
       "    </tr>\n",
       "  </thead>\n",
       "  <tbody>\n",
       "    <tr>\n",
       "      <th>0</th>\n",
       "      <td>0.2</td>\n",
       "      <td>-3.0</td>\n",
       "      <td>7.0</td>\n",
       "      <td>2.9000</td>\n",
       "    </tr>\n",
       "    <tr>\n",
       "      <th>1</th>\n",
       "      <td>0.2</td>\n",
       "      <td>-3.0</td>\n",
       "      <td>7.0</td>\n",
       "      <td>2.9935</td>\n",
       "    </tr>\n",
       "    <tr>\n",
       "      <th>2</th>\n",
       "      <td>0.2</td>\n",
       "      <td>-3.0</td>\n",
       "      <td>7.0</td>\n",
       "      <td>3.0870</td>\n",
       "    </tr>\n",
       "    <tr>\n",
       "      <th>3</th>\n",
       "      <td>0.2</td>\n",
       "      <td>-3.0</td>\n",
       "      <td>7.0</td>\n",
       "      <td>3.1805</td>\n",
       "    </tr>\n",
       "    <tr>\n",
       "      <th>4</th>\n",
       "      <td>0.2</td>\n",
       "      <td>-3.0</td>\n",
       "      <td>7.0</td>\n",
       "      <td>3.2740</td>\n",
       "    </tr>\n",
       "    <tr>\n",
       "      <th>...</th>\n",
       "      <td>...</td>\n",
       "      <td>...</td>\n",
       "      <td>...</td>\n",
       "      <td>...</td>\n",
       "    </tr>\n",
       "    <tr>\n",
       "      <th>766408</th>\n",
       "      <td>0.4</td>\n",
       "      <td>-7.0</td>\n",
       "      <td>10.0</td>\n",
       "      <td>21.2260</td>\n",
       "    </tr>\n",
       "    <tr>\n",
       "      <th>766409</th>\n",
       "      <td>0.4</td>\n",
       "      <td>-7.0</td>\n",
       "      <td>10.0</td>\n",
       "      <td>21.3195</td>\n",
       "    </tr>\n",
       "    <tr>\n",
       "      <th>766410</th>\n",
       "      <td>0.4</td>\n",
       "      <td>-7.0</td>\n",
       "      <td>10.0</td>\n",
       "      <td>21.4130</td>\n",
       "    </tr>\n",
       "    <tr>\n",
       "      <th>766411</th>\n",
       "      <td>0.4</td>\n",
       "      <td>-7.0</td>\n",
       "      <td>10.0</td>\n",
       "      <td>21.5065</td>\n",
       "    </tr>\n",
       "    <tr>\n",
       "      <th>766412</th>\n",
       "      <td>0.4</td>\n",
       "      <td>-7.0</td>\n",
       "      <td>10.0</td>\n",
       "      <td>21.6000</td>\n",
       "    </tr>\n",
       "  </tbody>\n",
       "</table>\n",
       "<p>766413 rows × 4 columns</p>\n",
       "</div>"
      ],
      "text/plain": [
       "          d    h     l     Freq\n",
       "0       0.2 -3.0   7.0   2.9000\n",
       "1       0.2 -3.0   7.0   2.9935\n",
       "2       0.2 -3.0   7.0   3.0870\n",
       "3       0.2 -3.0   7.0   3.1805\n",
       "4       0.2 -3.0   7.0   3.2740\n",
       "...     ...  ...   ...      ...\n",
       "766408  0.4 -7.0  10.0  21.2260\n",
       "766409  0.4 -7.0  10.0  21.3195\n",
       "766410  0.4 -7.0  10.0  21.4130\n",
       "766411  0.4 -7.0  10.0  21.5065\n",
       "766412  0.4 -7.0  10.0  21.6000\n",
       "\n",
       "[766413 rows x 4 columns]"
      ]
     },
     "execution_count": 70,
     "metadata": {},
     "output_type": "execute_result"
    }
   ],
   "source": [
    "new_dataset['tmp'] = 1\n",
    "Freq['tmp'] = 1\n",
    "\n",
    "new_dataset = pd.merge(new_dataset, Freq, on=['tmp'])\n",
    "new_dataset = new_dataset.drop('tmp', axis=1)\n",
    "new_dataset"
   ]
  },
  {
   "cell_type": "markdown",
   "id": "f5080e41",
   "metadata": {},
   "source": [
    "### Predict The Value Using The Best Model\n",
    "\n",
    "#### Best Model :- KNeighborsRegressor(n_neighbors = 2)\n",
    "With Testing Score :-  0.9779866048795093\n",
    "And Mean Squared Error :- 0.28978639754122787"
   ]
  },
  {
   "cell_type": "code",
   "execution_count": 71,
   "id": "efbf82e0",
   "metadata": {},
   "outputs": [],
   "source": [
    "knn = KNeighborsRegressor(n_neighbors = 2)\n",
    "knn.fit(x_train ,y_train)\n",
    "accuracies = r2_score(y_test, knn.predict(x_test))\n",
    "mse = mean_squared_error(y_test,  knn.predict(x_test))"
   ]
  },
  {
   "cell_type": "code",
   "execution_count": 72,
   "id": "2ff44690",
   "metadata": {},
   "outputs": [
    {
     "name": "stdout",
     "output_type": "stream",
     "text": [
      "Accuracies =  0.9779866048795093\n",
      "Mean Squared Error =  0.28978639754122787\n"
     ]
    }
   ],
   "source": [
    "print(\"Accuracies = \",accuracies)\n",
    "print(\"Mean Squared Error = \",mse)"
   ]
  },
  {
   "cell_type": "code",
   "execution_count": 73,
   "id": "acc3e164",
   "metadata": {},
   "outputs": [
    {
     "data": {
      "text/plain": [
       "array([-3.99980699, -3.99980699, -5.32225911, ..., -9.90012273,\n",
       "       -9.81349834, -9.78515475])"
      ]
     },
     "execution_count": 73,
     "metadata": {},
     "output_type": "execute_result"
    }
   ],
   "source": [
    "y_pred = knn.predict(new_dataset)\n",
    "y_pred"
   ]
  },
  {
   "cell_type": "code",
   "execution_count": 74,
   "id": "90976757",
   "metadata": {},
   "outputs": [
    {
     "data": {
      "text/html": [
       "<div>\n",
       "<style scoped>\n",
       "    .dataframe tbody tr th:only-of-type {\n",
       "        vertical-align: middle;\n",
       "    }\n",
       "\n",
       "    .dataframe tbody tr th {\n",
       "        vertical-align: top;\n",
       "    }\n",
       "\n",
       "    .dataframe thead th {\n",
       "        text-align: right;\n",
       "    }\n",
       "</style>\n",
       "<table border=\"1\" class=\"dataframe\">\n",
       "  <thead>\n",
       "    <tr style=\"text-align: right;\">\n",
       "      <th></th>\n",
       "      <th>dB</th>\n",
       "    </tr>\n",
       "  </thead>\n",
       "  <tbody>\n",
       "    <tr>\n",
       "      <th>0</th>\n",
       "      <td>-3.999807</td>\n",
       "    </tr>\n",
       "    <tr>\n",
       "      <th>1</th>\n",
       "      <td>-3.999807</td>\n",
       "    </tr>\n",
       "    <tr>\n",
       "      <th>2</th>\n",
       "      <td>-5.322259</td>\n",
       "    </tr>\n",
       "    <tr>\n",
       "      <th>3</th>\n",
       "      <td>-5.322259</td>\n",
       "    </tr>\n",
       "    <tr>\n",
       "      <th>4</th>\n",
       "      <td>-6.413053</td>\n",
       "    </tr>\n",
       "    <tr>\n",
       "      <th>...</th>\n",
       "      <td>...</td>\n",
       "    </tr>\n",
       "    <tr>\n",
       "      <th>766408</th>\n",
       "      <td>-10.248197</td>\n",
       "    </tr>\n",
       "    <tr>\n",
       "      <th>766409</th>\n",
       "      <td>-9.900123</td>\n",
       "    </tr>\n",
       "    <tr>\n",
       "      <th>766410</th>\n",
       "      <td>-9.900123</td>\n",
       "    </tr>\n",
       "    <tr>\n",
       "      <th>766411</th>\n",
       "      <td>-9.813498</td>\n",
       "    </tr>\n",
       "    <tr>\n",
       "      <th>766412</th>\n",
       "      <td>-9.785155</td>\n",
       "    </tr>\n",
       "  </tbody>\n",
       "</table>\n",
       "<p>766413 rows × 1 columns</p>\n",
       "</div>"
      ],
      "text/plain": [
       "               dB\n",
       "0       -3.999807\n",
       "1       -3.999807\n",
       "2       -5.322259\n",
       "3       -5.322259\n",
       "4       -6.413053\n",
       "...           ...\n",
       "766408 -10.248197\n",
       "766409  -9.900123\n",
       "766410  -9.900123\n",
       "766411  -9.813498\n",
       "766412  -9.785155\n",
       "\n",
       "[766413 rows x 1 columns]"
      ]
     },
     "execution_count": 74,
     "metadata": {},
     "output_type": "execute_result"
    }
   ],
   "source": [
    "y_pred = pd.DataFrame(y_pred,columns=['dB'])\n",
    "y_pred"
   ]
  },
  {
   "cell_type": "code",
   "execution_count": 75,
   "id": "5d07e411",
   "metadata": {},
   "outputs": [
    {
     "data": {
      "text/html": [
       "<div>\n",
       "<style scoped>\n",
       "    .dataframe tbody tr th:only-of-type {\n",
       "        vertical-align: middle;\n",
       "    }\n",
       "\n",
       "    .dataframe tbody tr th {\n",
       "        vertical-align: top;\n",
       "    }\n",
       "\n",
       "    .dataframe thead th {\n",
       "        text-align: right;\n",
       "    }\n",
       "</style>\n",
       "<table border=\"1\" class=\"dataframe\">\n",
       "  <thead>\n",
       "    <tr style=\"text-align: right;\">\n",
       "      <th></th>\n",
       "      <th>d</th>\n",
       "      <th>h</th>\n",
       "      <th>l</th>\n",
       "      <th>Freq</th>\n",
       "      <th>dB</th>\n",
       "    </tr>\n",
       "  </thead>\n",
       "  <tbody>\n",
       "    <tr>\n",
       "      <th>0</th>\n",
       "      <td>0.2</td>\n",
       "      <td>-3.0</td>\n",
       "      <td>7.0</td>\n",
       "      <td>2.9000</td>\n",
       "      <td>-3.999807</td>\n",
       "    </tr>\n",
       "    <tr>\n",
       "      <th>1</th>\n",
       "      <td>0.2</td>\n",
       "      <td>-3.0</td>\n",
       "      <td>7.0</td>\n",
       "      <td>2.9935</td>\n",
       "      <td>-3.999807</td>\n",
       "    </tr>\n",
       "    <tr>\n",
       "      <th>2</th>\n",
       "      <td>0.2</td>\n",
       "      <td>-3.0</td>\n",
       "      <td>7.0</td>\n",
       "      <td>3.0870</td>\n",
       "      <td>-5.322259</td>\n",
       "    </tr>\n",
       "    <tr>\n",
       "      <th>3</th>\n",
       "      <td>0.2</td>\n",
       "      <td>-3.0</td>\n",
       "      <td>7.0</td>\n",
       "      <td>3.1805</td>\n",
       "      <td>-5.322259</td>\n",
       "    </tr>\n",
       "    <tr>\n",
       "      <th>4</th>\n",
       "      <td>0.2</td>\n",
       "      <td>-3.0</td>\n",
       "      <td>7.0</td>\n",
       "      <td>3.2740</td>\n",
       "      <td>-6.413053</td>\n",
       "    </tr>\n",
       "    <tr>\n",
       "      <th>...</th>\n",
       "      <td>...</td>\n",
       "      <td>...</td>\n",
       "      <td>...</td>\n",
       "      <td>...</td>\n",
       "      <td>...</td>\n",
       "    </tr>\n",
       "    <tr>\n",
       "      <th>766408</th>\n",
       "      <td>0.4</td>\n",
       "      <td>-7.0</td>\n",
       "      <td>10.0</td>\n",
       "      <td>21.2260</td>\n",
       "      <td>-10.248197</td>\n",
       "    </tr>\n",
       "    <tr>\n",
       "      <th>766409</th>\n",
       "      <td>0.4</td>\n",
       "      <td>-7.0</td>\n",
       "      <td>10.0</td>\n",
       "      <td>21.3195</td>\n",
       "      <td>-9.900123</td>\n",
       "    </tr>\n",
       "    <tr>\n",
       "      <th>766410</th>\n",
       "      <td>0.4</td>\n",
       "      <td>-7.0</td>\n",
       "      <td>10.0</td>\n",
       "      <td>21.4130</td>\n",
       "      <td>-9.900123</td>\n",
       "    </tr>\n",
       "    <tr>\n",
       "      <th>766411</th>\n",
       "      <td>0.4</td>\n",
       "      <td>-7.0</td>\n",
       "      <td>10.0</td>\n",
       "      <td>21.5065</td>\n",
       "      <td>-9.813498</td>\n",
       "    </tr>\n",
       "    <tr>\n",
       "      <th>766412</th>\n",
       "      <td>0.4</td>\n",
       "      <td>-7.0</td>\n",
       "      <td>10.0</td>\n",
       "      <td>21.6000</td>\n",
       "      <td>-9.785155</td>\n",
       "    </tr>\n",
       "  </tbody>\n",
       "</table>\n",
       "<p>766413 rows × 5 columns</p>\n",
       "</div>"
      ],
      "text/plain": [
       "          d    h     l     Freq         dB\n",
       "0       0.2 -3.0   7.0   2.9000  -3.999807\n",
       "1       0.2 -3.0   7.0   2.9935  -3.999807\n",
       "2       0.2 -3.0   7.0   3.0870  -5.322259\n",
       "3       0.2 -3.0   7.0   3.1805  -5.322259\n",
       "4       0.2 -3.0   7.0   3.2740  -6.413053\n",
       "...     ...  ...   ...      ...        ...\n",
       "766408  0.4 -7.0  10.0  21.2260 -10.248197\n",
       "766409  0.4 -7.0  10.0  21.3195  -9.900123\n",
       "766410  0.4 -7.0  10.0  21.4130  -9.900123\n",
       "766411  0.4 -7.0  10.0  21.5065  -9.813498\n",
       "766412  0.4 -7.0  10.0  21.6000  -9.785155\n",
       "\n",
       "[766413 rows x 5 columns]"
      ]
     },
     "execution_count": 75,
     "metadata": {},
     "output_type": "execute_result"
    }
   ],
   "source": [
    "dataset_with_predict = new_dataset.join(y_pred)\n",
    "dataset_with_predict"
   ]
  },
  {
   "cell_type": "markdown",
   "id": "59e5ea97",
   "metadata": {},
   "source": [
    "### Visulize the data"
   ]
  },
  {
   "cell_type": "code",
   "execution_count": 76,
   "id": "db1d8ecc",
   "metadata": {},
   "outputs": [
    {
     "data": {
      "text/plain": [
       "<AxesSubplot:xlabel='Freq', ylabel='dB'>"
      ]
     },
     "execution_count": 76,
     "metadata": {},
     "output_type": "execute_result"
    },
    {
     "data": {
      "image/png": "[encoded data removed]",
      "text/plain": [
       "<Figure size 432x288 with 1 Axes>"
      ]
     },
     "metadata": {
      "needs_background": "light"
     },
     "output_type": "display_data"
    }
   ],
   "source": [
    "plt.scatter(x = 'Freq', y = 'dB', data = dataset_with_predict)\n",
    "plt.xlabel('Frequency')\n",
    "plt.ylabel('dB')"
   ]
  },
  {
   "cell_type": "markdown",
   "id": "827bc58d",
   "metadata": {},
   "source": [
    "### Best Parameter"
   ]
  },
  {
   "cell_type": "code",
   "execution_count": 77,
   "id": "04e8de04",
   "metadata": {},
   "outputs": [
    {
     "data": {
      "text/plain": [
       "-35.77640827992235"
      ]
     },
     "execution_count": 77,
     "metadata": {},
     "output_type": "execute_result"
    }
   ],
   "source": [
    "np.min(y_pred['dB'])"
   ]
  },
  {
   "cell_type": "code",
   "execution_count": 78,
   "id": "5e365e6e",
   "metadata": {},
   "outputs": [
    {
     "data": {
      "text/plain": [
       "479767"
      ]
     },
     "execution_count": 78,
     "metadata": {},
     "output_type": "execute_result"
    }
   ],
   "source": [
    "# index pf min value\n",
    "np.argmin(y_pred['dB'])"
   ]
  },
  {
   "cell_type": "code",
   "execution_count": 81,
   "id": "3712193b",
   "metadata": {},
   "outputs": [
    {
     "data": {
      "text/plain": [
       "-35.77640827992235"
      ]
     },
     "execution_count": 81,
     "metadata": {},
     "output_type": "execute_result"
    }
   ],
   "source": [
    "y_pred['dB'][479767]"
   ]
  },
  {
   "cell_type": "code",
   "execution_count": 82,
   "id": "9cef7587",
   "metadata": {},
   "outputs": [
    {
     "data": {
      "text/html": [
       "<div>\n",
       "<style scoped>\n",
       "    .dataframe tbody tr th:only-of-type {\n",
       "        vertical-align: middle;\n",
       "    }\n",
       "\n",
       "    .dataframe tbody tr th {\n",
       "        vertical-align: top;\n",
       "    }\n",
       "\n",
       "    .dataframe thead th {\n",
       "        text-align: right;\n",
       "    }\n",
       "</style>\n",
       "<table border=\"1\" class=\"dataframe\">\n",
       "  <thead>\n",
       "    <tr style=\"text-align: right;\">\n",
       "      <th></th>\n",
       "      <th>d</th>\n",
       "      <th>h</th>\n",
       "      <th>l</th>\n",
       "      <th>Freq</th>\n",
       "    </tr>\n",
       "  </thead>\n",
       "  <tbody>\n",
       "    <tr>\n",
       "      <th>479767</th>\n",
       "      <td>0.3</td>\n",
       "      <td>-6.5</td>\n",
       "      <td>10.0</td>\n",
       "      <td>19.8235</td>\n",
       "    </tr>\n",
       "  </tbody>\n",
       "</table>\n",
       "</div>"
      ],
      "text/plain": [
       "          d    h     l     Freq\n",
       "479767  0.3 -6.5  10.0  19.8235"
      ]
     },
     "execution_count": 82,
     "metadata": {},
     "output_type": "execute_result"
    }
   ],
   "source": [
    "# best parameter\n",
    "new_dataset.loc[[479767]]"
   ]
  },
  {
   "cell_type": "code",
   "execution_count": null,
   "id": "95f9735c",
   "metadata": {},
   "outputs": [],
   "source": []
  }
 ],
 "metadata": {
  "colab": {
   "collapsed_sections": [
    "f8b725b3",
    "d7b2e7c3"
   ],
   "name": "Apply Some Algorithm.ipynb",
   "provenance": []
  },
  "kernelspec": {
   "display_name": "Python 3 (ipykernel)",
   "language": "python",
   "name": "python3"
  },
  "language_info": {
   "codemirror_mode": {
    "name": "ipython",
    "version": 3
   },
   "file_extension": ".py",
   "mimetype": "text/x-python",
   "name": "python",
   "nbconvert_exporter": "python",
   "pygments_lexer": "ipython3",
   "version": "3.9.7"
  },
  "varInspector": {
   "cols": {
    "lenName": 16,
    "lenType": 16,
    "lenVar": 40
   },
   "kernels_config": {
    "python": {
     "delete_cmd_postfix": "",
     "delete_cmd_prefix": "del ",
     "library": "var_list.py",
     "varRefreshCmd": "print(var_dic_list())"
    },
    "r": {
     "delete_cmd_postfix": ") ",
     "delete_cmd_prefix": "rm(",
     "library": "var_list.r",
     "varRefreshCmd": "cat(var_dic_list()) "
    }
   },
   "types_to_exclude": [
    "module",
    "function",
    "builtin_function_or_method",
    "instance",
    "_Feature"
   ],
   "window_display": false
  }
 },
 "nbformat": 4,
 "nbformat_minor": 5
}
